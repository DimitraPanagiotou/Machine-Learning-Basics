{
 "cells": [
  {
   "cell_type": "code",
   "execution_count": 1,
   "metadata": {
    "ExecuteTime": {
     "end_time": "2021-03-30T13:49:39.440605Z",
     "start_time": "2021-03-30T13:49:34.773092Z"
    }
   },
   "outputs": [],
   "source": [
    "import pandas as pd\n",
    "import numpy as np\n",
    "import matplotlib.pyplot as plt\n",
    "import seaborn as sns\n",
    "from sklearn.preprocessing import scale\n",
    "from sklearn.decomposition import PCA\n",
    "from sklearn.discriminant_analysis import LinearDiscriminantAnalysis\n",
    "from scipy import stats\n",
    "from IPython.display import display, HTML\n",
    "from scipy.stats import pearsonr\n",
    "from sklearn.preprocessing import OrdinalEncoder "
   ]
  },
  {
   "cell_type": "markdown",
   "metadata": {
    "ExecuteTime": {
     "end_time": "2021-03-19T17:05:35.288224Z",
     "start_time": "2021-03-19T17:05:35.280223Z"
    }
   },
   "source": [
    "**CLEANING DATA**"
   ]
  },
  {
   "cell_type": "code",
   "execution_count": 2,
   "metadata": {
    "ExecuteTime": {
     "end_time": "2021-03-26T15:47:24.349597Z",
     "start_time": "2021-03-26T15:47:22.753043Z"
    },
    "scrolled": true
   },
   "outputs": [
    {
     "data": {
      "text/html": [
       "<div>\n",
       "<style scoped>\n",
       "    .dataframe tbody tr th:only-of-type {\n",
       "        vertical-align: middle;\n",
       "    }\n",
       "\n",
       "    .dataframe tbody tr th {\n",
       "        vertical-align: top;\n",
       "    }\n",
       "\n",
       "    .dataframe thead th {\n",
       "        text-align: right;\n",
       "    }\n",
       "</style>\n",
       "<table border=\"1\" class=\"dataframe\">\n",
       "  <thead>\n",
       "    <tr style=\"text-align: right;\">\n",
       "      <th></th>\n",
       "      <th>V14</th>\n",
       "      <th>V74</th>\n",
       "      <th>V75</th>\n",
       "      <th>V12</th>\n",
       "      <th>V34</th>\n",
       "    </tr>\n",
       "  </thead>\n",
       "  <tbody>\n",
       "    <tr>\n",
       "      <th>0</th>\n",
       "      <td>6.0</td>\n",
       "      <td>1.0</td>\n",
       "      <td>4.0</td>\n",
       "      <td>1.0</td>\n",
       "      <td>0.0</td>\n",
       "    </tr>\n",
       "    <tr>\n",
       "      <th>1</th>\n",
       "      <td>4.0</td>\n",
       "      <td>0.0</td>\n",
       "      <td>0.0</td>\n",
       "      <td>3.0</td>\n",
       "      <td>2.0</td>\n",
       "    </tr>\n",
       "    <tr>\n",
       "      <th>2</th>\n",
       "      <td>4.0</td>\n",
       "      <td>0.0</td>\n",
       "      <td>0.0</td>\n",
       "      <td>4.0</td>\n",
       "      <td>2.0</td>\n",
       "    </tr>\n",
       "    <tr>\n",
       "      <th>3</th>\n",
       "      <td>1.0</td>\n",
       "      <td>0.0</td>\n",
       "      <td>0.0</td>\n",
       "      <td>3.0</td>\n",
       "      <td>0.0</td>\n",
       "    </tr>\n",
       "    <tr>\n",
       "      <th>4</th>\n",
       "      <td>0.0</td>\n",
       "      <td>0.0</td>\n",
       "      <td>0.0</td>\n",
       "      <td>4.0</td>\n",
       "      <td>2.0</td>\n",
       "    </tr>\n",
       "    <tr>\n",
       "      <th>...</th>\n",
       "      <td>...</td>\n",
       "      <td>...</td>\n",
       "      <td>...</td>\n",
       "      <td>...</td>\n",
       "      <td>...</td>\n",
       "    </tr>\n",
       "    <tr>\n",
       "      <th>238</th>\n",
       "      <td>6.0</td>\n",
       "      <td>2.0</td>\n",
       "      <td>4.0</td>\n",
       "      <td>0.0</td>\n",
       "      <td>0.0</td>\n",
       "    </tr>\n",
       "    <tr>\n",
       "      <th>239</th>\n",
       "      <td>2.0</td>\n",
       "      <td>2.0</td>\n",
       "      <td>2.0</td>\n",
       "      <td>1.0</td>\n",
       "      <td>2.0</td>\n",
       "    </tr>\n",
       "    <tr>\n",
       "      <th>240</th>\n",
       "      <td>4.0</td>\n",
       "      <td>0.0</td>\n",
       "      <td>0.0</td>\n",
       "      <td>0.0</td>\n",
       "      <td>1.0</td>\n",
       "    </tr>\n",
       "    <tr>\n",
       "      <th>241</th>\n",
       "      <td>4.0</td>\n",
       "      <td>2.0</td>\n",
       "      <td>2.0</td>\n",
       "      <td>3.0</td>\n",
       "      <td>2.0</td>\n",
       "    </tr>\n",
       "    <tr>\n",
       "      <th>242</th>\n",
       "      <td>0.0</td>\n",
       "      <td>2.0</td>\n",
       "      <td>4.0</td>\n",
       "      <td>3.0</td>\n",
       "      <td>0.0</td>\n",
       "    </tr>\n",
       "  </tbody>\n",
       "</table>\n",
       "<p>243 rows × 5 columns</p>\n",
       "</div>"
      ],
      "text/plain": [
       "     V14  V74  V75  V12  V34\n",
       "0    6.0  1.0  4.0  1.0  0.0\n",
       "1    4.0  0.0  0.0  3.0  2.0\n",
       "2    4.0  0.0  0.0  4.0  2.0\n",
       "3    1.0  0.0  0.0  3.0  0.0\n",
       "4    0.0  0.0  0.0  4.0  2.0\n",
       "..   ...  ...  ...  ...  ...\n",
       "238  6.0  2.0  4.0  0.0  0.0\n",
       "239  2.0  2.0  2.0  1.0  2.0\n",
       "240  4.0  0.0  0.0  0.0  1.0\n",
       "241  4.0  2.0  2.0  3.0  2.0\n",
       "242  0.0  2.0  4.0  3.0  0.0\n",
       "\n",
       "[243 rows x 5 columns]"
      ]
     },
     "execution_count": 2,
     "metadata": {},
     "output_type": "execute_result"
    }
   ],
   "source": [
    "from sklearn.preprocessing import OrdinalEncoder  \n",
    "from operator import itemgetter\n",
    "\n",
    "data = pd.read_excel(r'business_survey_results.xlsx',engine='openpyxl')\n",
    "data.columns = [\"V\"+str(i) for i in range(1, len(data.columns)+1)]  # rename column names to be similar to R naming convention\n",
    "\n",
    "\n",
    "\n",
    "counter=0\n",
    "iters=[]\n",
    "for i in range(2, len(data.columns)+1):\n",
    "    rate=data[\"V\"+str(i)].isna().sum()/len(data)\n",
    "    iters.append(i)\n",
    "    if rate>0.1:\n",
    "        counter=counter+1\n",
    "        data.drop([\"V\"+str(i)],axis=1,inplace=True)\n",
    "        iters.remove(i)\n",
    "        \n",
    "#print(counter)\n",
    "#print(iters)\n",
    "#print(data)\n",
    "\n",
    "le = OrdinalEncoder() \n",
    "data[\"V1\"].fillna(data[\"V1\"].mode()[0],inplace=True)\n",
    "data[\"V1\"] = le.fit_transform(data[[\"V1\"]].astype(str))\n",
    "\n",
    "for i in iters:\n",
    "    if data[\"V\"+str(i)].dtype==object:\n",
    "        data[\"V\"+str(i)].fillna(data[\"V\"+str(i)].mode()[0],inplace=True)\n",
    "        data[\"V\"+str(i)] = le.fit_transform(data[[\"V\"+str(i)]].astype(str))\n",
    "    else:\n",
    "        data[\"V\"+str(i)].fillna(data[\"V\"+str(i)].mean(),inplace=True)\n",
    "        \n",
    "\n",
    "corrlist=[]\n",
    "for i in iters:\n",
    "    \n",
    "    corr,_=pearsonr(data[\"V\"+str(i)],data[\"V1\"])\n",
    "    helper=[]\n",
    "    helper.append(abs(corr))\n",
    "    helper.append(i)\n",
    "    corrlist.append(helper)\n",
    "    \n",
    "corrlist=sorted(corrlist,key=itemgetter(0),reverse=True)\n",
    "    \n",
    "#print(corrlist)  \n",
    "\n",
    "datanew=data[['V1','V14','V74','V75','V12','V34']].copy()\n",
    "y=datanew[\"V1\"]\n",
    "X = datanew.loc[:, \"V14\":]\n",
    "X"
   ]
  },
  {
   "cell_type": "markdown",
   "metadata": {},
   "source": [
    "**Statistics**"
   ]
  },
  {
   "cell_type": "code",
   "execution_count": 3,
   "metadata": {
    "ExecuteTime": {
     "end_time": "2021-03-26T15:47:31.870657Z",
     "start_time": "2021-03-26T15:47:31.376407Z"
    }
   },
   "outputs": [
    {
     "name": "stdout",
     "output_type": "stream",
     "text": [
      "V14    3.234568\n",
      "V74    1.411523\n",
      "V75    1.707819\n",
      "V12    1.967078\n",
      "V34    1.374486\n",
      "dtype: float64\n",
      "V14    2.136908\n",
      "V74    1.284359\n",
      "V75    1.474412\n",
      "V12    1.660156\n",
      "V34    1.208546\n",
      "dtype: float64\n",
      "          V14       V74       V75       V12       V34\n",
      "V14  1.000000 -0.125136 -0.163719 -0.175304  0.015384\n",
      "V74 -0.125136  1.000000  0.522028 -0.063126 -0.067469\n",
      "V75 -0.163719  0.522028  1.000000  0.034738 -0.097948\n",
      "V12 -0.175304 -0.063126  0.034738  1.000000 -0.143584\n",
      "V34  0.015384 -0.067469 -0.097948 -0.143584  1.000000\n"
     ]
    },
    {
     "data": {
      "image/png": "[encoded data removed]",
      "text/plain": [
       "<Figure size 432x288 with 2 Axes>"
      ]
     },
     "metadata": {
      "needs_background": "light"
     },
     "output_type": "display_data"
    }
   ],
   "source": [
    "columnmean=[]\n",
    "columnmstd=[]\n",
    "\n",
    "columnmean=X.apply(np.mean)\n",
    "print(columnmean)\n",
    "\n",
    "columnstd=X.apply(np.std)\n",
    "print(columnstd)\n",
    "\n",
    "corrmat = X.corr()\n",
    "print(corrmat)\n",
    "\n",
    "sns.heatmap(corrmat, vmax=1., square=False).xaxis.tick_top()"
   ]
  },
  {
   "cell_type": "markdown",
   "metadata": {},
   "source": [
    "**Most highly correlated**"
   ]
  },
  {
   "cell_type": "code",
   "execution_count": 4,
   "metadata": {
    "ExecuteTime": {
     "end_time": "2021-03-26T15:47:35.782702Z",
     "start_time": "2021-03-26T15:47:35.742727Z"
    }
   },
   "outputs": [
    {
     "data": {
      "text/html": [
       "<div>\n",
       "<style scoped>\n",
       "    .dataframe tbody tr th:only-of-type {\n",
       "        vertical-align: middle;\n",
       "    }\n",
       "\n",
       "    .dataframe tbody tr th {\n",
       "        vertical-align: top;\n",
       "    }\n",
       "\n",
       "    .dataframe thead th {\n",
       "        text-align: right;\n",
       "    }\n",
       "</style>\n",
       "<table border=\"1\" class=\"dataframe\">\n",
       "  <thead>\n",
       "    <tr style=\"text-align: right;\">\n",
       "      <th></th>\n",
       "      <th>FirstVariable</th>\n",
       "      <th>SecondVariable</th>\n",
       "      <th>Correlation</th>\n",
       "    </tr>\n",
       "  </thead>\n",
       "  <tbody>\n",
       "    <tr>\n",
       "      <th>0</th>\n",
       "      <td>V74</td>\n",
       "      <td>V75</td>\n",
       "      <td>0.522028</td>\n",
       "    </tr>\n",
       "    <tr>\n",
       "      <th>1</th>\n",
       "      <td>V14</td>\n",
       "      <td>V12</td>\n",
       "      <td>-0.175304</td>\n",
       "    </tr>\n",
       "    <tr>\n",
       "      <th>2</th>\n",
       "      <td>V14</td>\n",
       "      <td>V75</td>\n",
       "      <td>-0.163719</td>\n",
       "    </tr>\n",
       "    <tr>\n",
       "      <th>3</th>\n",
       "      <td>V1</td>\n",
       "      <td>V14</td>\n",
       "      <td>-0.156257</td>\n",
       "    </tr>\n",
       "    <tr>\n",
       "      <th>4</th>\n",
       "      <td>V1</td>\n",
       "      <td>V74</td>\n",
       "      <td>-0.153371</td>\n",
       "    </tr>\n",
       "    <tr>\n",
       "      <th>5</th>\n",
       "      <td>V1</td>\n",
       "      <td>V75</td>\n",
       "      <td>-0.143857</td>\n",
       "    </tr>\n",
       "    <tr>\n",
       "      <th>6</th>\n",
       "      <td>V12</td>\n",
       "      <td>V34</td>\n",
       "      <td>-0.143584</td>\n",
       "    </tr>\n",
       "    <tr>\n",
       "      <th>7</th>\n",
       "      <td>V1</td>\n",
       "      <td>V12</td>\n",
       "      <td>0.143194</td>\n",
       "    </tr>\n",
       "    <tr>\n",
       "      <th>8</th>\n",
       "      <td>V1</td>\n",
       "      <td>V34</td>\n",
       "      <td>-0.141098</td>\n",
       "    </tr>\n",
       "    <tr>\n",
       "      <th>9</th>\n",
       "      <td>V14</td>\n",
       "      <td>V74</td>\n",
       "      <td>-0.125136</td>\n",
       "    </tr>\n",
       "  </tbody>\n",
       "</table>\n",
       "</div>"
      ],
      "text/plain": [
       "  FirstVariable SecondVariable  Correlation\n",
       "0           V74            V75     0.522028\n",
       "1           V14            V12    -0.175304\n",
       "2           V14            V75    -0.163719\n",
       "3            V1            V14    -0.156257\n",
       "4            V1            V74    -0.153371\n",
       "5            V1            V75    -0.143857\n",
       "6           V12            V34    -0.143584\n",
       "7            V1            V12     0.143194\n",
       "8            V1            V34    -0.141098\n",
       "9           V14            V74    -0.125136"
      ]
     },
     "execution_count": 4,
     "metadata": {},
     "output_type": "execute_result"
    }
   ],
   "source": [
    "def mosthighlycorrelated(mydataframe, numtoreport):\n",
    "    # find the correlations\n",
    "    cormatrix = mydataframe.corr()\n",
    "    # set the correlations on the diagonal or lower triangle to zero,\n",
    "    # so they will not be reported as the highest ones:\n",
    "    cormatrix *= np.tri(*cormatrix.values.shape, k=-1).T\n",
    "    # find the top n correlations\n",
    "    cormatrix = cormatrix.stack()\n",
    "    cormatrix = cormatrix.reindex(cormatrix.abs().sort_values(ascending=False).index).reset_index()\n",
    "    # assign human-friendly names\n",
    "    cormatrix.columns = [\"FirstVariable\", \"SecondVariable\", \"Correlation\"]\n",
    "    return cormatrix.head(numtoreport)\n",
    "mosthighlycorrelated(datanew, 10)"
   ]
  },
  {
   "cell_type": "markdown",
   "metadata": {},
   "source": [
    "**Standardising Variables**"
   ]
  },
  {
   "cell_type": "code",
   "execution_count": 5,
   "metadata": {
    "ExecuteTime": {
     "end_time": "2021-03-26T15:47:54.983331Z",
     "start_time": "2021-03-26T15:47:54.967341Z"
    }
   },
   "outputs": [],
   "source": [
    "standardisedX = scale(X)\n",
    "standardisedX = pd.DataFrame(standardisedX, index=X.index, columns=X.columns)\n"
   ]
  },
  {
   "cell_type": "code",
   "execution_count": 6,
   "metadata": {
    "ExecuteTime": {
     "end_time": "2021-03-26T15:47:56.294319Z",
     "start_time": "2021-03-26T15:47:56.278330Z"
    }
   },
   "outputs": [
    {
     "data": {
      "text/plain": [
       "V14   -8.772133e-17\n",
       "V74    5.848088e-17\n",
       "V75   -6.944605e-17\n",
       "V12   -4.386066e-17\n",
       "V34    8.772133e-17\n",
       "dtype: float64"
      ]
     },
     "execution_count": 6,
     "metadata": {},
     "output_type": "execute_result"
    }
   ],
   "source": [
    "standardisedX.apply(np.mean)"
   ]
  },
  {
   "cell_type": "code",
   "execution_count": 7,
   "metadata": {
    "ExecuteTime": {
     "end_time": "2021-03-26T15:47:57.700558Z",
     "start_time": "2021-03-26T15:47:57.670355Z"
    }
   },
   "outputs": [
    {
     "data": {
      "text/plain": [
       "V14    1.0\n",
       "V74    1.0\n",
       "V75    1.0\n",
       "V12    1.0\n",
       "V34    1.0\n",
       "dtype: float64"
      ]
     },
     "execution_count": 7,
     "metadata": {},
     "output_type": "execute_result"
    }
   ],
   "source": [
    "standardisedX.apply(np.std)"
   ]
  },
  {
   "cell_type": "markdown",
   "metadata": {},
   "source": [
    "**PCA**"
   ]
  },
  {
   "cell_type": "code",
   "execution_count": 8,
   "metadata": {
    "ExecuteTime": {
     "end_time": "2021-03-26T15:47:59.772398Z",
     "start_time": "2021-03-26T15:47:59.740419Z"
    }
   },
   "outputs": [],
   "source": [
    "pca = PCA().fit(standardisedX)"
   ]
  },
  {
   "cell_type": "code",
   "execution_count": 9,
   "metadata": {
    "ExecuteTime": {
     "end_time": "2021-03-26T15:48:01.363774Z",
     "start_time": "2021-03-26T15:48:01.331795Z"
    }
   },
   "outputs": [
    {
     "name": "stdout",
     "output_type": "stream",
     "text": [
      "Importance of components:\n"
     ]
    },
    {
     "data": {
      "text/html": [
       "<div>\n",
       "<style scoped>\n",
       "    .dataframe tbody tr th:only-of-type {\n",
       "        vertical-align: middle;\n",
       "    }\n",
       "\n",
       "    .dataframe tbody tr th {\n",
       "        vertical-align: top;\n",
       "    }\n",
       "\n",
       "    .dataframe thead tr th {\n",
       "        text-align: left;\n",
       "    }\n",
       "</style>\n",
       "<table border=\"1\" class=\"dataframe\">\n",
       "  <thead>\n",
       "    <tr>\n",
       "      <th></th>\n",
       "      <th>sdev</th>\n",
       "      <th>varprop</th>\n",
       "      <th>cumprop</th>\n",
       "    </tr>\n",
       "    <tr>\n",
       "      <th></th>\n",
       "      <th>Standard deviation</th>\n",
       "      <th>Proportion of Variance</th>\n",
       "      <th>Cumulative Proportion</th>\n",
       "    </tr>\n",
       "  </thead>\n",
       "  <tbody>\n",
       "    <tr>\n",
       "      <th>PC1</th>\n",
       "      <td>1.273505</td>\n",
       "      <td>0.324363</td>\n",
       "      <td>0.324363</td>\n",
       "    </tr>\n",
       "    <tr>\n",
       "      <th>PC2</th>\n",
       "      <td>1.089533</td>\n",
       "      <td>0.237417</td>\n",
       "      <td>0.561780</td>\n",
       "    </tr>\n",
       "    <tr>\n",
       "      <th>PC3</th>\n",
       "      <td>0.991223</td>\n",
       "      <td>0.196505</td>\n",
       "      <td>0.758284</td>\n",
       "    </tr>\n",
       "    <tr>\n",
       "      <th>PC4</th>\n",
       "      <td>0.860050</td>\n",
       "      <td>0.147937</td>\n",
       "      <td>0.906221</td>\n",
       "    </tr>\n",
       "    <tr>\n",
       "      <th>PC5</th>\n",
       "      <td>0.684758</td>\n",
       "      <td>0.093779</td>\n",
       "      <td>1.000000</td>\n",
       "    </tr>\n",
       "  </tbody>\n",
       "</table>\n",
       "</div>"
      ],
      "text/plain": [
       "                  sdev                varprop               cumprop\n",
       "    Standard deviation Proportion of Variance Cumulative Proportion\n",
       "PC1           1.273505               0.324363              0.324363\n",
       "PC2           1.089533               0.237417              0.561780\n",
       "PC3           0.991223               0.196505              0.758284\n",
       "PC4           0.860050               0.147937              0.906221\n",
       "PC5           0.684758               0.093779              1.000000"
      ]
     },
     "metadata": {},
     "output_type": "display_data"
    }
   ],
   "source": [
    "def pca_summary(pca, standardised_data, out=True):\n",
    "    names = [\"PC\"+str(i) for i in range(1, len(pca.explained_variance_ratio_)+1)]\n",
    "    a = list(np.std(pca.transform(standardised_data), axis=0))\n",
    "    b = list(pca.explained_variance_ratio_)\n",
    "    c = [np.sum(pca.explained_variance_ratio_[:i]) for i in range(1, len(pca.explained_variance_ratio_)+1)]\n",
    "    columns = pd.MultiIndex.from_tuples([(\"sdev\", \"Standard deviation\"), (\"varprop\", \"Proportion of Variance\"), (\"cumprop\", \"Cumulative Proportion\")])\n",
    "    summary = pd.DataFrame(zip(a, b, c), index=names, columns=columns)\n",
    "    if out:\n",
    "        print(\"Importance of components:\")\n",
    "        display(summary)\n",
    "    return summary\n",
    "\n",
    "summary = pca_summary(pca, standardisedX)"
   ]
  },
  {
   "cell_type": "code",
   "execution_count": 10,
   "metadata": {
    "ExecuteTime": {
     "end_time": "2021-03-26T15:48:03.888293Z",
     "start_time": "2021-03-26T15:48:03.872302Z"
    }
   },
   "outputs": [
    {
     "data": {
      "text/plain": [
       "Standard deviation    5.0\n",
       "dtype: float64"
      ]
     },
     "execution_count": 10,
     "metadata": {},
     "output_type": "execute_result"
    }
   ],
   "source": [
    "np.sum(summary.sdev**2)"
   ]
  },
  {
   "cell_type": "markdown",
   "metadata": {},
   "source": [
    "**Deciding How Many Principal Components to Retain**\n",
    "\n",
    "First way:\n",
    "Screeplot"
   ]
  },
  {
   "cell_type": "code",
   "execution_count": 11,
   "metadata": {
    "ExecuteTime": {
     "end_time": "2021-03-26T15:48:12.368784Z",
     "start_time": "2021-03-26T15:48:12.213775Z"
    }
   },
   "outputs": [
    {
     "data": {
      "image/png": "[encoded data removed]",
      "text/plain": [
       "<Figure size 432x288 with 1 Axes>"
      ]
     },
     "metadata": {
      "needs_background": "light"
     },
     "output_type": "display_data"
    }
   ],
   "source": [
    "fig = plt.gcf()\n",
    "def screeplot(pca, standardised_values):\n",
    "    y = np.std(pca.transform(standardised_values), axis=0)**2\n",
    "    x = np.arange(len(y)) + 1\n",
    "    plt.plot(x, y, \"o-\")\n",
    "    plt.xticks(x, [\"Comp.\"+str(i) for i in x], rotation=70)\n",
    "    plt.ylabel(\"Variance\")\n",
    "    #fig.set_size_inches(22, 8, forward=True)\n",
    "    plt.show()\n",
    "\n",
    "screeplot(pca, standardisedX)\n"
   ]
  },
  {
   "cell_type": "markdown",
   "metadata": {},
   "source": [
    "The most obvious change in slope in the scree plot occurs at component 5, which is the \"elbow\" of the scree plot. Therefore, \n",
    "the first five components should be retained."
   ]
  },
  {
   "cell_type": "markdown",
   "metadata": {},
   "source": [
    "Second way:\n",
    "Kaiser’s criterion"
   ]
  },
  {
   "cell_type": "code",
   "execution_count": 12,
   "metadata": {
    "ExecuteTime": {
     "end_time": "2021-03-26T15:48:16.342284Z",
     "start_time": "2021-03-26T15:48:16.326294Z"
    }
   },
   "outputs": [
    {
     "data": {
      "text/html": [
       "<div>\n",
       "<style scoped>\n",
       "    .dataframe tbody tr th:only-of-type {\n",
       "        vertical-align: middle;\n",
       "    }\n",
       "\n",
       "    .dataframe tbody tr th {\n",
       "        vertical-align: top;\n",
       "    }\n",
       "\n",
       "    .dataframe thead th {\n",
       "        text-align: right;\n",
       "    }\n",
       "</style>\n",
       "<table border=\"1\" class=\"dataframe\">\n",
       "  <thead>\n",
       "    <tr style=\"text-align: right;\">\n",
       "      <th></th>\n",
       "      <th>Standard deviation</th>\n",
       "    </tr>\n",
       "  </thead>\n",
       "  <tbody>\n",
       "    <tr>\n",
       "      <th>PC1</th>\n",
       "      <td>1.621815</td>\n",
       "    </tr>\n",
       "    <tr>\n",
       "      <th>PC2</th>\n",
       "      <td>1.187083</td>\n",
       "    </tr>\n",
       "    <tr>\n",
       "      <th>PC3</th>\n",
       "      <td>0.982523</td>\n",
       "    </tr>\n",
       "    <tr>\n",
       "      <th>PC4</th>\n",
       "      <td>0.739686</td>\n",
       "    </tr>\n",
       "    <tr>\n",
       "      <th>PC5</th>\n",
       "      <td>0.468893</td>\n",
       "    </tr>\n",
       "  </tbody>\n",
       "</table>\n",
       "</div>"
      ],
      "text/plain": [
       "     Standard deviation\n",
       "PC1            1.621815\n",
       "PC2            1.187083\n",
       "PC3            0.982523\n",
       "PC4            0.739686\n",
       "PC5            0.468893"
      ]
     },
     "execution_count": 12,
     "metadata": {},
     "output_type": "execute_result"
    }
   ],
   "source": [
    "(summary.sdev**2).head(40)"
   ]
  },
  {
   "cell_type": "markdown",
   "metadata": {},
   "source": [
    "We should only retain principal components for which the variance is above 1.We see that the variance is above 1\n",
    "for principal components 1, 2,...,5."
   ]
  },
  {
   "cell_type": "markdown",
   "metadata": {},
   "source": [
    "Third way:at least 75% of the variance"
   ]
  },
  {
   "cell_type": "code",
   "execution_count": 13,
   "metadata": {
    "ExecuteTime": {
     "end_time": "2021-03-26T15:48:18.599174Z",
     "start_time": "2021-03-26T15:48:18.583185Z"
    }
   },
   "outputs": [
    {
     "data": {
      "text/html": [
       "<div>\n",
       "<style scoped>\n",
       "    .dataframe tbody tr th:only-of-type {\n",
       "        vertical-align: middle;\n",
       "    }\n",
       "\n",
       "    .dataframe tbody tr th {\n",
       "        vertical-align: top;\n",
       "    }\n",
       "\n",
       "    .dataframe thead th {\n",
       "        text-align: right;\n",
       "    }\n",
       "</style>\n",
       "<table border=\"1\" class=\"dataframe\">\n",
       "  <thead>\n",
       "    <tr style=\"text-align: right;\">\n",
       "      <th></th>\n",
       "      <th>Cumulative Proportion</th>\n",
       "    </tr>\n",
       "  </thead>\n",
       "  <tbody>\n",
       "    <tr>\n",
       "      <th>PC1</th>\n",
       "      <td>0.324363</td>\n",
       "    </tr>\n",
       "    <tr>\n",
       "      <th>PC2</th>\n",
       "      <td>0.561780</td>\n",
       "    </tr>\n",
       "    <tr>\n",
       "      <th>PC3</th>\n",
       "      <td>0.758284</td>\n",
       "    </tr>\n",
       "    <tr>\n",
       "      <th>PC4</th>\n",
       "      <td>0.906221</td>\n",
       "    </tr>\n",
       "    <tr>\n",
       "      <th>PC5</th>\n",
       "      <td>1.000000</td>\n",
       "    </tr>\n",
       "  </tbody>\n",
       "</table>\n",
       "</div>"
      ],
      "text/plain": [
       "     Cumulative Proportion\n",
       "PC1               0.324363\n",
       "PC2               0.561780\n",
       "PC3               0.758284\n",
       "PC4               0.906221\n",
       "PC5               1.000000"
      ]
     },
     "execution_count": 13,
     "metadata": {},
     "output_type": "execute_result"
    }
   ],
   "source": [
    "(summary.cumprop).head(45)"
   ]
  },
  {
   "cell_type": "markdown",
   "metadata": {},
   "source": [
    "We would retain the first 5 principal components, as we can see from cumulative proportions that the 5 principal components explain 75.82% of the variance "
   ]
  },
  {
   "cell_type": "markdown",
   "metadata": {
    "ExecuteTime": {
     "end_time": "2021-03-22T16:13:18.264504Z",
     "start_time": "2021-03-22T16:13:18.256503Z"
    }
   },
   "source": [
    "**Loadings for the Principal Components**"
   ]
  },
  {
   "cell_type": "code",
   "execution_count": 14,
   "metadata": {
    "ExecuteTime": {
     "end_time": "2021-03-26T15:48:21.197431Z",
     "start_time": "2021-03-26T15:48:21.189430Z"
    }
   },
   "outputs": [
    {
     "data": {
      "text/plain": [
       "array([-0.33771585,  0.63054   ,  0.65734964,  0.1157291 , -0.20703996])"
      ]
     },
     "execution_count": 14,
     "metadata": {},
     "output_type": "execute_result"
    }
   ],
   "source": [
    "pca.components_[0]"
   ]
  },
  {
   "cell_type": "markdown",
   "metadata": {},
   "source": [
    "**Values for 1st principal component**"
   ]
  },
  {
   "cell_type": "code",
   "execution_count": 15,
   "metadata": {
    "ExecuteTime": {
     "end_time": "2021-03-26T15:48:22.525756Z",
     "start_time": "2021-03-26T15:48:22.509763Z"
    }
   },
   "outputs": [
    {
     "data": {
      "text/plain": [
       "array([ 0.55091643, -1.61050346, -1.54079369, -0.79375855, -0.90863582,\n",
       "        0.4326843 , -1.11956612,  0.41316028,  0.9781899 ,  1.95819686,\n",
       "        0.28533709,  0.527914  , -0.49886909,  1.70828255,  1.99009057,\n",
       "        2.21970752, -0.79375855,  0.79199422, -1.68021323,  1.14171103,\n",
       "        0.90481143, -0.07507197, -1.72337543, -1.41103399,  0.26910842,\n",
       "       -1.60161218, -0.9331781 ,  0.44763552, -0.29148393,  0.18444742,\n",
       "       -0.53250696, -0.40442469,  1.07792567,  1.13622937, -0.04156963,\n",
       "        1.29594627,  2.00510852,  2.19921989,  0.92710005, -1.74992301,\n",
       "        0.49602029, -0.18279016,  1.15472574, -0.88285681,  0.67538476,\n",
       "        0.60296991,  1.30754263, -0.0661119 , -1.7930852 , -0.63571908,\n",
       "       -0.95984923, -2.13571171, -1.54079369, -0.77693961, -1.54079369,\n",
       "       -1.54079369,  1.36946027, -0.07351809, -1.20782702,  0.86170399,\n",
       "       -0.67372749,  1.07612469, -0.47052053,  2.36808714, -1.16466483,\n",
       "       -0.14748683,  0.17285107, -1.81963278, -1.5750646 ,  3.11138479,\n",
       "        0.00352908, -0.67372749,  0.2779997 , -2.16225929,  0.35930583,\n",
       "        1.3411805 , -0.72404877,  0.33275825, -2.16225929,  1.54051445,\n",
       "        0.09192756, -1.13116248, -0.43701818,  0.08046673, -1.58395588,\n",
       "       -1.08606378, -0.53237144,  0.94746413, -1.93985618,  2.62933873,\n",
       "       -0.18098917, -1.20609483, -0.40081075, -0.64022515, -1.81963278,\n",
       "        1.87714981, -0.60401772, -0.04150083, -1.54079369, -1.54079369,\n",
       "        0.2348375 ,  0.39654566,  1.56706202, -0.50241424, -0.33110098,\n",
       "        2.5489367 ,  1.79847996,  0.6637884 , -0.4104706 ,  1.02870353,\n",
       "       -0.3653719 , -0.34076083, -0.3653719 ,  0.93850612, -0.43701818,\n",
       "       -0.22788886,  0.55257983, -1.33758672,  0.05391915, -1.54079369,\n",
       "       -0.88285681, -0.88285681, -0.88285681,  1.03579382, -0.88285681,\n",
       "        1.77386889, -0.22060622, -1.64477438, -0.39191948, -0.96346317,\n",
       "       -0.22788886, -0.39191948,  0.05391915, -0.88285681, -0.88285681,\n",
       "       -0.39191948, -0.88285681,  1.88230359,  1.55906557,  1.56706202,\n",
       "        0.05391915,  1.46474473,  1.92747109,  0.05391915,  1.92747109,\n",
       "       -0.88285681,  0.05391915, -0.88285681, -0.88285681, -1.54079369,\n",
       "       -0.39191948, -0.39191948, -0.39191948, -1.81963278,  0.96491611,\n",
       "       -1.54079369,  1.92747109,  0.05391915, -1.54079369, -0.88285681,\n",
       "        1.61139216,  2.16314799, -0.64911642, -1.81963278, -2.13571171,\n",
       "       -1.81963278, -1.54079369, -1.7930852 , -0.27105106,  0.972144  ,\n",
       "        1.08681695,  1.70828255,  1.21734522,  2.13840139, -1.71210694,\n",
       "       -1.13638506,  0.72937474,  0.72944353,  0.16762849,  1.29704541,\n",
       "       -0.64717991, -1.81963278, -0.26139121,  0.33275825, -0.64557128,\n",
       "       -1.20248089, -0.22788886, -0.22788886,  0.35930583,  0.94559642,\n",
       "        0.28959605, -0.42915932, -1.81963278, -1.81963278, -0.30648991,\n",
       "       -2.13571171, -1.81963278,  1.28815414, -0.67372749,  1.25098309,\n",
       "        0.64111384,  0.40426901,  2.90225547,  1.94679079,  2.19921989,\n",
       "       -0.41769848,  0.21272719,  0.47397878,  1.63857278,  0.61269855,\n",
       "       -1.81963278, -1.72337543, -1.17954726, -1.33758672, -1.51424611,\n",
       "       -0.4951316 ,  2.90225547,  2.23820389,  1.92038079, -0.81121053,\n",
       "       -1.81963278, -1.81963278,  1.04178498,  2.62044745,  0.87066406,\n",
       "        0.01667932,  1.30754263, -1.81963278,  0.43784014,  0.24622954,\n",
       "        1.92747109,  1.99718086,  1.12302437,  1.44425709,  2.57290274,\n",
       "       -0.57747014,  1.5344545 , -0.90863582,  0.972144  ,  0.43970786,\n",
       "       -1.64831953,  0.26304848,  2.12951012])"
      ]
     },
     "execution_count": 15,
     "metadata": {},
     "output_type": "execute_result"
    }
   ],
   "source": [
    "pca.transform(standardisedX)[:, 0]"
   ]
  },
  {
   "cell_type": "code",
   "execution_count": 16,
   "metadata": {
    "ExecuteTime": {
     "end_time": "2021-03-26T15:48:25.638016Z",
     "start_time": "2021-03-26T15:48:25.630021Z"
    }
   },
   "outputs": [
    {
     "data": {
      "text/plain": [
       "array([ 0.38617829,  0.30697674,  0.16493613, -0.74933003,  0.40979529])"
      ]
     },
     "execution_count": 16,
     "metadata": {},
     "output_type": "execute_result"
    }
   ],
   "source": [
    "pca.components_[1]"
   ]
  },
  {
   "cell_type": "markdown",
   "metadata": {},
   "source": [
    "**Scatterplots of the Principal Components**"
   ]
  },
  {
   "cell_type": "code",
   "execution_count": 17,
   "metadata": {
    "ExecuteTime": {
     "end_time": "2021-03-26T15:48:27.720577Z",
     "start_time": "2021-03-26T15:48:26.975294Z"
    }
   },
   "outputs": [
    {
     "name": "stderr",
     "output_type": "stream",
     "text": [
      "C:\\Users\\User\\anaconda3\\envs\\statistics\\lib\\site-packages\\seaborn\\_decorators.py:36: FutureWarning: Pass the following variables as keyword args: x, y, data. From version 0.12, the only valid positional argument will be `data`, and passing other arguments without an explicit keyword will result in an error or misinterpretation.\n",
      "  warnings.warn(\n"
     ]
    },
    {
     "name": "stdout",
     "output_type": "stream",
     "text": [
      "0      2.0\n",
      "1      2.0\n",
      "2      2.0\n",
      "3      5.0\n",
      "4      5.0\n",
      "      ... \n",
      "238    1.0\n",
      "239    4.0\n",
      "240    5.0\n",
      "241    0.0\n",
      "242    1.0\n",
      "Name: V1, Length: 243, dtype: float64\n"
     ]
    },
    {
     "data": {
      "image/png": "[encoded data removed]",
      "text/plain": [
       "<Figure size 412x360 with 1 Axes>"
      ]
     },
     "metadata": {
      "needs_background": "light"
     },
     "output_type": "display_data"
    }
   ],
   "source": [
    "y=data[\"V1\"]\n",
    "def pca_scatter(pca, standardised_values, classifs):\n",
    "    foo = pca.transform(standardised_values)\n",
    "    bar = pd.DataFrame(zip(foo[:, 0], foo[:, 1], classifs), columns=[\"PC1\", \"PC2\", \"Class\"])\n",
    "    sns.lmplot(\"PC1\", \"PC2\", bar, hue=\"Class\", fit_reg=False)\n",
    "\n",
    "pca_scatter(pca, standardisedX, y)\n",
    "print(y)"
   ]
  },
  {
   "cell_type": "markdown",
   "metadata": {},
   "source": [
    "The scatterplot shows the first principal component on the x-axis, and the second principal component on the y-axis. We can see from the scatterplot that samples of \"Atomikh epixeirish\" have much lower values of the first principal component than samples of \"AE\". Therefore, the first principal component separates samples of \"Atomikh epixeirish\" from those of \"AE\".\n",
    "\n",
    "We can also see that samples of \"AE\",\"OE\",\"allh morfh\",\"IKE\",\"APE\" have low values of the second principal component."
   ]
  },
  {
   "cell_type": "markdown",
   "metadata": {},
   "source": [
    "**LDA**"
   ]
  },
  {
   "cell_type": "code",
   "execution_count": 18,
   "metadata": {
    "ExecuteTime": {
     "end_time": "2021-03-26T15:48:31.541907Z",
     "start_time": "2021-03-26T15:48:31.526357Z"
    }
   },
   "outputs": [],
   "source": [
    "lda = LinearDiscriminantAnalysis().fit(X, y)"
   ]
  },
  {
   "cell_type": "markdown",
   "metadata": {},
   "source": [
    "**Loadings for the Discriminant Functions**"
   ]
  },
  {
   "cell_type": "code",
   "execution_count": 19,
   "metadata": {
    "ExecuteTime": {
     "end_time": "2021-03-26T15:48:33.356455Z",
     "start_time": "2021-03-26T15:48:33.340466Z"
    }
   },
   "outputs": [
    {
     "name": "stdout",
     "output_type": "stream",
     "text": [
      "Coefficients of linear discriminants:\n"
     ]
    },
    {
     "data": {
      "text/html": [
       "<div>\n",
       "<style scoped>\n",
       "    .dataframe tbody tr th:only-of-type {\n",
       "        vertical-align: middle;\n",
       "    }\n",
       "\n",
       "    .dataframe tbody tr th {\n",
       "        vertical-align: top;\n",
       "    }\n",
       "\n",
       "    .dataframe thead th {\n",
       "        text-align: right;\n",
       "    }\n",
       "</style>\n",
       "<table border=\"1\" class=\"dataframe\">\n",
       "  <thead>\n",
       "    <tr style=\"text-align: right;\">\n",
       "      <th></th>\n",
       "      <th>LD1</th>\n",
       "      <th>LD2</th>\n",
       "      <th>LD3</th>\n",
       "      <th>LD4</th>\n",
       "      <th>LD5</th>\n",
       "    </tr>\n",
       "  </thead>\n",
       "  <tbody>\n",
       "    <tr>\n",
       "      <th>V14</th>\n",
       "      <td>0.389674</td>\n",
       "      <td>-0.198773</td>\n",
       "      <td>0.098611</td>\n",
       "      <td>-0.042908</td>\n",
       "      <td>0.264682</td>\n",
       "    </tr>\n",
       "    <tr>\n",
       "      <th>V74</th>\n",
       "      <td>-0.221458</td>\n",
       "      <td>-0.148644</td>\n",
       "      <td>0.600072</td>\n",
       "      <td>0.636005</td>\n",
       "      <td>0.133859</td>\n",
       "    </tr>\n",
       "    <tr>\n",
       "      <th>V75</th>\n",
       "      <td>-0.180115</td>\n",
       "      <td>-0.506931</td>\n",
       "      <td>-0.130044</td>\n",
       "      <td>-0.608328</td>\n",
       "      <td>-0.034785</td>\n",
       "    </tr>\n",
       "    <tr>\n",
       "      <th>V12</th>\n",
       "      <td>-0.248248</td>\n",
       "      <td>0.126552</td>\n",
       "      <td>-0.042649</td>\n",
       "      <td>-0.021511</td>\n",
       "      <td>0.561962</td>\n",
       "    </tr>\n",
       "    <tr>\n",
       "      <th>V34</th>\n",
       "      <td>-0.131904</td>\n",
       "      <td>-0.460641</td>\n",
       "      <td>-0.561072</td>\n",
       "      <td>0.404040</td>\n",
       "      <td>0.153306</td>\n",
       "    </tr>\n",
       "  </tbody>\n",
       "</table>\n",
       "</div>"
      ],
      "text/plain": [
       "          LD1       LD2       LD3       LD4       LD5\n",
       "V14  0.389674 -0.198773  0.098611 -0.042908  0.264682\n",
       "V74 -0.221458 -0.148644  0.600072  0.636005  0.133859\n",
       "V75 -0.180115 -0.506931 -0.130044 -0.608328 -0.034785\n",
       "V12 -0.248248  0.126552 -0.042649 -0.021511  0.561962\n",
       "V34 -0.131904 -0.460641 -0.561072  0.404040  0.153306"
      ]
     },
     "metadata": {},
     "output_type": "display_data"
    }
   ],
   "source": [
    "def pretty_scalings(lda, X, out=False):\n",
    "    ret = pd.DataFrame(lda.scalings_, index=X.columns, columns=[\"LD\"+str(i+1) for i in range(lda.scalings_.shape[1])])\n",
    "    if out:\n",
    "        print(\"Coefficients of linear discriminants:\")\n",
    "        display(ret)\n",
    "    return ret\n",
    "\n",
    "pretty_scalings_ = pretty_scalings(lda, X, out=True)"
   ]
  },
  {
   "cell_type": "markdown",
   "metadata": {},
   "source": [
    "**Values of the first discriminant function**"
   ]
  },
  {
   "cell_type": "code",
   "execution_count": 20,
   "metadata": {
    "ExecuteTime": {
     "end_time": "2021-03-26T15:48:35.533563Z",
     "start_time": "2021-03-26T15:48:35.509578Z"
    }
   },
   "outputs": [
    {
     "data": {
      "text/plain": [
       "array([ 1.17727094e+00,  5.79535247e-01,  3.31286878e-01, -3.25676770e-01,\n",
       "       -1.22740714e+00, -4.58951015e-01,  3.58077619e-01, -1.54961524e+00,\n",
       "       -1.50897410e+00, -2.01062870e+00, -8.98786542e-01,  5.60100567e-01,\n",
       "        7.35852268e-01, -1.90551519e+00, -1.38222771e+00, -1.96141025e+00,\n",
       "       -3.25676770e-01, -1.33838026e+00,  8.27783616e-01, -2.22601500e-01,\n",
       "       -4.78725427e-01, -1.18505627e+00,  2.11918749e+00,  9.30519154e-01,\n",
       "        6.53983455e-01,  5.90765864e-01,  1.70819969e-01,  4.29872527e-01,\n",
       "       -1.27561762e+00,  1.34082820e-02, -1.15927350e+00, -9.27287014e-01,\n",
       "       -1.18756083e+00, -1.89864761e+00, -1.38073113e+00, -1.92107532e+00,\n",
       "        4.06074817e-01, -2.12697282e+00, -1.15390250e+00,  1.07603199e+00,\n",
       "       -6.83004188e-02, -4.34947392e-02, -5.83838932e-01,  9.22707996e-01,\n",
       "       -2.08049346e-01, -1.02902318e-01, -1.76674336e+00,  1.74959798e-02,\n",
       "        2.36743586e+00, -7.15350273e-01,  3.35649907e-01,  2.10362736e+00,\n",
       "        3.31286878e-01,  6.21886113e-01,  3.31286878e-01,  3.31286878e-01,\n",
       "       -8.60523373e-01,  3.90174961e-01,  1.69082439e+00, -1.58662863e+00,\n",
       "        1.77962888e-01, -3.46821180e-01,  9.38268121e-01, -1.25535473e+00,\n",
       "        3.99420516e-01, -1.07990924e+00, -1.40923677e-01,  1.32428035e+00,\n",
       "        1.63392136e+00, -2.32163971e+00, -1.42207402e+00,  1.77962888e-01,\n",
       "        6.65214072e-01,  1.06047186e+00,  5.71297661e-01,  1.28382406e-01,\n",
       "       -5.73925139e-01, -4.71857839e-01,  1.06047186e+00, -1.61143431e+00,\n",
       "       -3.72177524e-01,  2.03745661e-01,  7.42593266e-01,  1.56429114e+00,\n",
       "        1.62269075e+00,  1.62402764e-01,  9.31527123e-01,  2.19645517e-01,\n",
       "        8.37304503e-01, -2.08895146e+00, -8.84234387e-01, -3.41236894e-01,\n",
       "        6.90019752e-01, -1.77119670e-02,  1.32428035e+00, -1.03389711e+00,\n",
       "       -7.02854809e-02, -1.89409493e-01,  3.31286878e-01,  3.31286878e-01,\n",
       "        1.95661794e+00,  7.84944132e-01, -5.68278807e-01,  3.09867135e-01,\n",
       "        4.41771382e-01, -1.01119406e+00, -1.98820099e+00, -3.62381304e-01,\n",
       "        1.78574877e+00, -7.73749882e-01,  1.74440587e+00,  1.53750040e+00,\n",
       "        1.74440587e+00, -6.91064089e-01,  7.42593266e-01, -2.15184251e-03,\n",
       "       -2.04611198e+00,  1.09159211e+00,  5.21135638e-01,  3.31286878e-01,\n",
       "        9.22707996e-01,  9.22707996e-01,  9.22707996e-01,  7.82203829e-02,\n",
       "        9.22707996e-01, -1.78129551e+00,  8.33154616e-01,  1.88216973e+00,\n",
       "        7.01250369e-01, -1.28165686e+00, -2.15184251e-03,  7.01250369e-01,\n",
       "        5.21135638e-01,  9.22707996e-01,  9.22707996e-01,  7.01250369e-01,\n",
       "        9.22707996e-01, -1.43198781e+00, -2.69593271e+00, -5.68278807e-01,\n",
       "        5.21135638e-01, -2.24077886e+00, -2.82009079e-01,  5.21135638e-01,\n",
       "       -2.82009079e-01,  9.22707996e-01,  5.21135638e-01,  9.22707996e-01,\n",
       "        9.22707996e-01,  3.31286878e-01,  7.01250369e-01,  7.01250369e-01,\n",
       "        7.01250369e-01,  1.32428035e+00, -2.03055185e+00,  3.31286878e-01,\n",
       "       -2.82009079e-01,  5.21135638e-01,  3.31286878e-01,  9.22707996e-01,\n",
       "        4.97337928e-01,  1.64013138e-02, -2.89425843e-02,  1.32428035e+00,\n",
       "        2.10362736e+00,  1.32428035e+00,  3.31286878e-01,  2.36743586e+00,\n",
       "        1.28925203e+00,  1.20406168e+00, -1.17633021e+00, -1.90551519e+00,\n",
       "       -1.68405757e+00, -1.86749383e+00,  1.99382631e-01, -5.89485264e-01,\n",
       "       -2.38161625e-01,  9.53160008e-01, -9.34154601e-01, -7.55376345e-01,\n",
       "        1.22111839e+00,  1.32428035e+00,  1.93523013e-01, -4.71857839e-01,\n",
       "        3.97042548e-01,  1.27606987e+00, -2.15184251e-03, -2.15184251e-03,\n",
       "        5.71297661e-01,  1.60906176e-01,  8.19546031e-01,  4.87603898e-01,\n",
       "        1.32428035e+00,  1.32428035e+00,  2.34865910e-01,  2.10362736e+00,\n",
       "        1.32428035e+00, -7.66606963e-01,  1.77962888e-01,  2.11068200e-01,\n",
       "        1.09458514e+00, -1.56084586e+00, -1.57689460e+00, -2.47346711e+00,\n",
       "       -2.12697282e+00, -1.44886476e+00, -9.75497498e-01, -1.80909423e+00,\n",
       "       -1.65726682e+00, -7.30969977e-03,  1.32428035e+00,  2.11918749e+00,\n",
       "        7.01918607e-01,  1.09159211e+00,  1.37444238e+00,  1.14517359e+00,\n",
       "       -1.57689460e+00, -6.46601571e-01, -1.13397934e+00,  1.92452060e+00,\n",
       "        1.32428035e+00,  1.32428035e+00, -2.35508325e-01, -2.10018208e+00,\n",
       "       -3.84076379e-01,  3.07489168e-01, -1.76674336e+00,  1.32428035e+00,\n",
       "       -5.65199079e-01, -1.17117235e+00, -2.82009079e-01, -5.30257448e-01,\n",
       "       -1.22890372e+00, -2.40634144e+00, -1.31912534e+00,  9.72870020e-01,\n",
       "       -2.48902723e+00, -1.22740714e+00,  1.20406168e+00, -5.06459738e-01,\n",
       "        1.45618460e+00, -2.23609470e-01, -1.87872445e+00])"
      ]
     },
     "execution_count": 20,
     "metadata": {},
     "output_type": "execute_result"
    }
   ],
   "source": [
    "lda.fit_transform(X, y)[:, 0]"
   ]
  },
  {
   "cell_type": "markdown",
   "metadata": {},
   "source": [
    "**Standardisation**"
   ]
  },
  {
   "cell_type": "code",
   "execution_count": 21,
   "metadata": {
    "ExecuteTime": {
     "end_time": "2021-03-26T15:48:39.561921Z",
     "start_time": "2021-03-26T15:48:39.553928Z"
    }
   },
   "outputs": [],
   "source": [
    "def calcWithinGroupsVariance(variable, groupvariable):\n",
    "    # find out how many values the group variable can take\n",
    "    levels = sorted(set(groupvariable))\n",
    "    numlevels = len(levels)\n",
    "    # get the mean and standard deviation for each group:\n",
    "    numtotal = 0\n",
    "    denomtotal = 0\n",
    "    for leveli in levels:\n",
    "        levelidata = variable[groupvariable==leveli]\n",
    "        levelilength = len(levelidata)\n",
    "        # get the standard deviation for group i:\n",
    "        sdi = np.std(levelidata)\n",
    "        numi = (levelilength)*sdi**2\n",
    "        denomi = levelilength\n",
    "        numtotal = numtotal + numi\n",
    "        denomtotal = denomtotal + denomi\n",
    "    # calculate the within-groups variance\n",
    "    Vw = numtotal / (denomtotal - numlevels)\n",
    "    return Vw"
   ]
  },
  {
   "cell_type": "code",
   "execution_count": 22,
   "metadata": {
    "ExecuteTime": {
     "end_time": "2021-03-26T15:48:45.112834Z",
     "start_time": "2021-03-26T15:48:45.104839Z"
    }
   },
   "outputs": [],
   "source": [
    "def groupStandardise(variables, groupvariable):\n",
    "    # find the number of samples in the data set and the number of variables\n",
    "    numsamples, numvariables = variables.shape\n",
    "    # find the variable names\n",
    "    variablenames = variables.columns\n",
    "    # calculate the group-standardised version of each variable\n",
    "    variables_new = pd.DataFrame()\n",
    "    for i in range(numvariables):\n",
    "        variable_name = variablenames[i]\n",
    "        variablei = variables[variable_name]\n",
    "        variablei_Vw = calcWithinGroupsVariance(variablei, groupvariable)\n",
    "        variablei_mean = np.mean(variablei)\n",
    "        variablei_new = (variablei - variablei_mean)/(np.sqrt(variablei_Vw))\n",
    "        variables_new[variable_name] = variablei_new\n",
    "    return variables_new"
   ]
  },
  {
   "cell_type": "code",
   "execution_count": 23,
   "metadata": {
    "ExecuteTime": {
     "end_time": "2021-03-26T15:48:46.376591Z",
     "start_time": "2021-03-26T15:48:46.336618Z"
    }
   },
   "outputs": [],
   "source": [
    "groupstandardisedX = groupStandardise(X, y)"
   ]
  },
  {
   "cell_type": "code",
   "execution_count": 24,
   "metadata": {
    "ExecuteTime": {
     "end_time": "2021-03-26T15:48:47.607551Z",
     "start_time": "2021-03-26T15:48:47.583566Z"
    }
   },
   "outputs": [
    {
     "data": {
      "text/html": [
       "<div>\n",
       "<style scoped>\n",
       "    .dataframe tbody tr th:only-of-type {\n",
       "        vertical-align: middle;\n",
       "    }\n",
       "\n",
       "    .dataframe tbody tr th {\n",
       "        vertical-align: top;\n",
       "    }\n",
       "\n",
       "    .dataframe thead th {\n",
       "        text-align: right;\n",
       "    }\n",
       "</style>\n",
       "<table border=\"1\" class=\"dataframe\">\n",
       "  <thead>\n",
       "    <tr style=\"text-align: right;\">\n",
       "      <th></th>\n",
       "      <th>LD1</th>\n",
       "      <th>LD2</th>\n",
       "      <th>LD3</th>\n",
       "      <th>LD4</th>\n",
       "      <th>LD5</th>\n",
       "    </tr>\n",
       "  </thead>\n",
       "  <tbody>\n",
       "    <tr>\n",
       "      <th>V14</th>\n",
       "      <td>0.751712</td>\n",
       "      <td>-0.383449</td>\n",
       "      <td>0.190229</td>\n",
       "      <td>-0.082773</td>\n",
       "      <td>0.510593</td>\n",
       "    </tr>\n",
       "    <tr>\n",
       "      <th>V74</th>\n",
       "      <td>-0.274688</td>\n",
       "      <td>-0.184373</td>\n",
       "      <td>0.744308</td>\n",
       "      <td>0.788878</td>\n",
       "      <td>0.166034</td>\n",
       "    </tr>\n",
       "    <tr>\n",
       "      <th>V75</th>\n",
       "      <td>-0.251525</td>\n",
       "      <td>-0.707915</td>\n",
       "      <td>-0.181603</td>\n",
       "      <td>-0.849512</td>\n",
       "      <td>-0.048576</td>\n",
       "    </tr>\n",
       "    <tr>\n",
       "      <th>V12</th>\n",
       "      <td>-0.402378</td>\n",
       "      <td>0.205124</td>\n",
       "      <td>-0.069129</td>\n",
       "      <td>-0.034866</td>\n",
       "      <td>0.910867</td>\n",
       "    </tr>\n",
       "    <tr>\n",
       "      <th>V34</th>\n",
       "      <td>-0.157721</td>\n",
       "      <td>-0.550799</td>\n",
       "      <td>-0.670887</td>\n",
       "      <td>0.483119</td>\n",
       "      <td>0.183312</td>\n",
       "    </tr>\n",
       "  </tbody>\n",
       "</table>\n",
       "</div>"
      ],
      "text/plain": [
       "          LD1       LD2       LD3       LD4       LD5\n",
       "V14  0.751712 -0.383449  0.190229 -0.082773  0.510593\n",
       "V74 -0.274688 -0.184373  0.744308  0.788878  0.166034\n",
       "V75 -0.251525 -0.707915 -0.181603 -0.849512 -0.048576\n",
       "V12 -0.402378  0.205124 -0.069129 -0.034866  0.910867\n",
       "V34 -0.157721 -0.550799 -0.670887  0.483119  0.183312"
      ]
     },
     "execution_count": 24,
     "metadata": {},
     "output_type": "execute_result"
    }
   ],
   "source": [
    "lda2 = LinearDiscriminantAnalysis().fit(groupstandardisedX, y)\n",
    "pretty_scalings(lda2, groupstandardisedX)"
   ]
  },
  {
   "cell_type": "markdown",
   "metadata": {},
   "source": [
    "**Calculation of the value of the first discriminant function**"
   ]
  },
  {
   "cell_type": "code",
   "execution_count": 25,
   "metadata": {
    "ExecuteTime": {
     "end_time": "2021-03-26T15:48:51.441301Z",
     "start_time": "2021-03-26T15:48:51.417315Z"
    }
   },
   "outputs": [
    {
     "data": {
      "text/plain": [
       "array([ 1.17727094e+00,  5.79535247e-01,  3.31286878e-01, -3.25676770e-01,\n",
       "       -1.22740714e+00, -4.58951015e-01,  3.58077619e-01, -1.54961524e+00,\n",
       "       -1.50897410e+00, -2.01062870e+00, -8.98786542e-01,  5.60100567e-01,\n",
       "        7.35852268e-01, -1.90551519e+00, -1.38222771e+00, -1.96141025e+00,\n",
       "       -3.25676770e-01, -1.33838026e+00,  8.27783616e-01, -2.22601500e-01,\n",
       "       -4.78725427e-01, -1.18505627e+00,  2.11918749e+00,  9.30519154e-01,\n",
       "        6.53983455e-01,  5.90765864e-01,  1.70819969e-01,  4.29872527e-01,\n",
       "       -1.27561762e+00,  1.34082820e-02, -1.15927350e+00, -9.27287014e-01,\n",
       "       -1.18756083e+00, -1.89864761e+00, -1.38073113e+00, -1.92107532e+00,\n",
       "        4.06074817e-01, -2.12697282e+00, -1.15390250e+00,  1.07603199e+00,\n",
       "       -6.83004188e-02, -4.34947392e-02, -5.83838932e-01,  9.22707996e-01,\n",
       "       -2.08049346e-01, -1.02902318e-01, -1.76674336e+00,  1.74959798e-02,\n",
       "        2.36743586e+00, -7.15350273e-01,  3.35649907e-01,  2.10362736e+00,\n",
       "        3.31286878e-01,  6.21886113e-01,  3.31286878e-01,  3.31286878e-01,\n",
       "       -8.60523373e-01,  3.90174961e-01,  1.69082439e+00, -1.58662863e+00,\n",
       "        1.77962888e-01, -3.46821180e-01,  9.38268121e-01, -1.25535473e+00,\n",
       "        3.99420516e-01, -1.07990924e+00, -1.40923677e-01,  1.32428035e+00,\n",
       "        1.63392136e+00, -2.32163971e+00, -1.42207402e+00,  1.77962888e-01,\n",
       "        6.65214072e-01,  1.06047186e+00,  5.71297661e-01,  1.28382406e-01,\n",
       "       -5.73925139e-01, -4.71857839e-01,  1.06047186e+00, -1.61143431e+00,\n",
       "       -3.72177524e-01,  2.03745661e-01,  7.42593266e-01,  1.56429114e+00,\n",
       "        1.62269075e+00,  1.62402764e-01,  9.31527123e-01,  2.19645517e-01,\n",
       "        8.37304503e-01, -2.08895146e+00, -8.84234387e-01, -3.41236894e-01,\n",
       "        6.90019752e-01, -1.77119670e-02,  1.32428035e+00, -1.03389711e+00,\n",
       "       -7.02854809e-02, -1.89409493e-01,  3.31286878e-01,  3.31286878e-01,\n",
       "        1.95661794e+00,  7.84944132e-01, -5.68278807e-01,  3.09867135e-01,\n",
       "        4.41771382e-01, -1.01119406e+00, -1.98820099e+00, -3.62381304e-01,\n",
       "        1.78574877e+00, -7.73749882e-01,  1.74440587e+00,  1.53750040e+00,\n",
       "        1.74440587e+00, -6.91064089e-01,  7.42593266e-01, -2.15184251e-03,\n",
       "       -2.04611198e+00,  1.09159211e+00,  5.21135638e-01,  3.31286878e-01,\n",
       "        9.22707996e-01,  9.22707996e-01,  9.22707996e-01,  7.82203829e-02,\n",
       "        9.22707996e-01, -1.78129551e+00,  8.33154616e-01,  1.88216973e+00,\n",
       "        7.01250369e-01, -1.28165686e+00, -2.15184251e-03,  7.01250369e-01,\n",
       "        5.21135638e-01,  9.22707996e-01,  9.22707996e-01,  7.01250369e-01,\n",
       "        9.22707996e-01, -1.43198781e+00, -2.69593271e+00, -5.68278807e-01,\n",
       "        5.21135638e-01, -2.24077886e+00, -2.82009079e-01,  5.21135638e-01,\n",
       "       -2.82009079e-01,  9.22707996e-01,  5.21135638e-01,  9.22707996e-01,\n",
       "        9.22707996e-01,  3.31286878e-01,  7.01250369e-01,  7.01250369e-01,\n",
       "        7.01250369e-01,  1.32428035e+00, -2.03055185e+00,  3.31286878e-01,\n",
       "       -2.82009079e-01,  5.21135638e-01,  3.31286878e-01,  9.22707996e-01,\n",
       "        4.97337928e-01,  1.64013138e-02, -2.89425843e-02,  1.32428035e+00,\n",
       "        2.10362736e+00,  1.32428035e+00,  3.31286878e-01,  2.36743586e+00,\n",
       "        1.28925203e+00,  1.20406168e+00, -1.17633021e+00, -1.90551519e+00,\n",
       "       -1.68405757e+00, -1.86749383e+00,  1.99382631e-01, -5.89485264e-01,\n",
       "       -2.38161625e-01,  9.53160008e-01, -9.34154601e-01, -7.55376345e-01,\n",
       "        1.22111839e+00,  1.32428035e+00,  1.93523013e-01, -4.71857839e-01,\n",
       "        3.97042548e-01,  1.27606987e+00, -2.15184251e-03, -2.15184251e-03,\n",
       "        5.71297661e-01,  1.60906176e-01,  8.19546031e-01,  4.87603898e-01,\n",
       "        1.32428035e+00,  1.32428035e+00,  2.34865910e-01,  2.10362736e+00,\n",
       "        1.32428035e+00, -7.66606963e-01,  1.77962888e-01,  2.11068200e-01,\n",
       "        1.09458514e+00, -1.56084586e+00, -1.57689460e+00, -2.47346711e+00,\n",
       "       -2.12697282e+00, -1.44886476e+00, -9.75497498e-01, -1.80909423e+00,\n",
       "       -1.65726682e+00, -7.30969977e-03,  1.32428035e+00,  2.11918749e+00,\n",
       "        7.01918607e-01,  1.09159211e+00,  1.37444238e+00,  1.14517359e+00,\n",
       "       -1.57689460e+00, -6.46601571e-01, -1.13397934e+00,  1.92452060e+00,\n",
       "        1.32428035e+00,  1.32428035e+00, -2.35508325e-01, -2.10018208e+00,\n",
       "       -3.84076379e-01,  3.07489168e-01, -1.76674336e+00,  1.32428035e+00,\n",
       "       -5.65199079e-01, -1.17117235e+00, -2.82009079e-01, -5.30257448e-01,\n",
       "       -1.22890372e+00, -2.40634144e+00, -1.31912534e+00,  9.72870020e-01,\n",
       "       -2.48902723e+00, -1.22740714e+00,  1.20406168e+00, -5.06459738e-01,\n",
       "        1.45618460e+00, -2.23609470e-01, -1.87872445e+00])"
      ]
     },
     "execution_count": 25,
     "metadata": {},
     "output_type": "execute_result"
    }
   ],
   "source": [
    "lda2.fit_transform(groupstandardisedX, y)[:, 0]"
   ]
  },
  {
   "cell_type": "markdown",
   "metadata": {},
   "source": [
    "**Separation Achieved by the Discriminant Functions**"
   ]
  },
  {
   "cell_type": "code",
   "execution_count": 26,
   "metadata": {
    "ExecuteTime": {
     "end_time": "2021-03-26T15:50:32.874613Z",
     "start_time": "2021-03-26T15:50:32.826645Z"
    }
   },
   "outputs": [
    {
     "name": "stdout",
     "output_type": "stream",
     "text": [
      "class\n",
      "[2. 2. 2. 5. 5. 5. 2. 2. 5. 2. 2. 2. 2. 5. 2. 5. 5. 5. 2. 2. 2. 5. 2. 2.\n",
      " 2. 2. 5. 2. 5. 2. 2. 5. 5. 5. 2. 2. 2. 5. 2. 2. 2. 2. 2. 2. 2. 2. 5. 2.\n",
      " 2. 5. 2. 2. 2. 2. 2. 2. 5. 2. 2. 5. 2. 2. 2. 2. 2. 2. 2. 2. 2. 5. 5. 2.\n",
      " 2. 2. 2. 2. 5. 2. 2. 2. 5. 2. 2. 2. 2. 2. 2. 2. 2. 2. 2. 2. 2. 2. 2. 2.\n",
      " 2. 2. 2. 2. 2. 2. 2. 2. 2. 2. 5. 2. 2. 2. 2. 2. 2. 2. 2. 2. 2. 2. 2. 2.\n",
      " 2. 2. 2. 2. 2. 5. 2. 2. 2. 2. 2. 2. 2. 2. 2. 2. 2. 2. 2. 2. 2. 2. 2. 2.\n",
      " 2. 2. 2. 2. 2. 2. 2. 2. 2. 2. 2. 2. 2. 2. 2. 2. 2. 2. 2. 2. 2. 2. 2. 2.\n",
      " 2. 2. 2. 5. 5. 2. 2. 2. 2. 2. 5. 2. 2. 2. 2. 2. 2. 2. 2. 2. 2. 2. 2. 2.\n",
      " 2. 2. 2. 2. 2. 2. 2. 2. 2. 2. 2. 2. 5. 5. 5. 2. 5. 2. 2. 2. 2. 2. 2. 2.\n",
      " 2. 2. 2. 2. 2. 2. 2. 5. 2. 2. 5. 2. 2. 2. 2. 2. 5. 2. 2. 2. 2. 5. 2. 2.\n",
      " 2. 2. 5.]\n",
      "\n",
      "posterior\n",
      "          0.0       1.0       2.0       3.0       4.0       5.0\n",
      "0    0.010797  0.016855  0.765092  0.000212  0.010285  0.196759\n",
      "1    0.014628  0.004661  0.650769  0.000708  0.025113  0.304120\n",
      "2    0.016074  0.004722  0.606028  0.000936  0.032583  0.339658\n",
      "3    0.011473  0.001794  0.333623  0.000284  0.055152  0.597675\n",
      "4    0.022739  0.004286  0.377601  0.003364  0.105659  0.486351\n",
      "..        ...       ...       ...       ...       ...       ...\n",
      "238  0.015890  0.020572  0.786871  0.000169  0.009965  0.166534\n",
      "239  0.043564  0.019305  0.646858  0.002351  0.049139  0.238783\n",
      "240  0.008758  0.002945  0.703749  0.000123  0.011197  0.273228\n",
      "241  0.041224  0.019391  0.662504  0.002020  0.042821  0.232039\n",
      "242  0.039684  0.020697  0.349688  0.002974  0.142198  0.444759\n",
      "\n",
      "[243 rows x 6 columns]\n",
      "\n",
      "x\n",
      "          LD1       LD2       LD3       LD4       LD5\n",
      "0    1.177271 -1.139741  0.540104 -2.309330 -0.157038\n",
      "1    0.579535  0.765994 -0.944456  0.338848  0.749416\n",
      "2    0.331287  0.892546 -0.987105  0.317338  1.311378\n",
      "3   -0.325677  2.283595 -0.118145 -0.340507 -0.351242\n",
      "4   -1.227407  1.687637 -1.381549  0.488969  0.252650\n",
      "..        ...       ...       ...       ...       ...\n",
      "238  1.204062 -1.414937  1.182826 -1.651814 -0.585141\n",
      "239 -0.506460 -0.400714 -0.116323  0.523041 -0.705725\n",
      "240  1.456185  0.846980 -0.255436 -0.000659 -1.089777\n",
      "241 -0.223609 -0.545156 -0.004399  0.394203  0.947564\n",
      "242 -1.878724  0.157355  0.463212 -1.458899 -0.487346\n",
      "\n",
      "[243 rows x 5 columns]\n"
     ]
    }
   ],
   "source": [
    "def rpredict(lda, X, y, out=False):\n",
    "    ret = {\"class\": lda.predict(X),\n",
    "           \"posterior\": pd.DataFrame(lda.predict_proba(X), columns=lda.classes_)}\n",
    "    ret[\"x\"] = pd.DataFrame(lda.fit_transform(X, y))\n",
    "    ret[\"x\"].columns = [\"LD\"+str(i+1) for i in range(ret[\"x\"].shape[1])]\n",
    "    if out:\n",
    "        print(\"class\")\n",
    "        print(ret[\"class\"])\n",
    "        print()\n",
    "        print(\"posterior\")\n",
    "        print(ret[\"posterior\"])\n",
    "        print()\n",
    "        print(\"x\")\n",
    "        print(ret[\"x\"])\n",
    "    return ret\n",
    "\n",
    "lda_values = rpredict(lda, standardisedX, y, True)"
   ]
  },
  {
   "cell_type": "code",
   "execution_count": 29,
   "metadata": {
    "ExecuteTime": {
     "end_time": "2021-03-26T15:53:17.062005Z",
     "start_time": "2021-03-26T15:53:16.998046Z"
    }
   },
   "outputs": [
    {
     "name": "stdout",
     "output_type": "stream",
     "text": [
      "variable LD1 Vw= 1.0000000000000009 Vb= 17.062153148553286 separation= 17.06215314855327\n",
      "variable LD2 Vw= 1.000000000000001 Vb= 7.263200441136367 separation= 7.263200441136359\n",
      "variable LD3 Vw= 0.9999999999999994 Vb= 1.1123375189160638 separation= 1.1123375189160645\n",
      "variable LD4 Vw= 0.9999999999999996 Vb= 0.5727163134161033 separation= 0.5727163134161035\n",
      "variable LD5 Vw= 1.0000000000000007 Vb= 0.0010887072742777723 separation= 0.0010887072742777717\n"
     ]
    }
   ],
   "source": [
    "def calcBetweenGroupsVariance(variable, groupvariable):\n",
    "    # find out how many values the group variable can take\n",
    "    levels = sorted(set((groupvariable)))\n",
    "    numlevels = len(levels)\n",
    "    # calculate the overall grand mean:\n",
    "    grandmean = np.mean(variable)\n",
    "    # get the mean and standard deviation for each group:\n",
    "    numtotal = 0\n",
    "    denomtotal = 0\n",
    "    for leveli in levels:\n",
    "        levelidata = variable[groupvariable==leveli]\n",
    "        levelilength = len(levelidata)\n",
    "        # get the mean and standard deviation for group i:\n",
    "        meani = np.mean(levelidata)\n",
    "        sdi = np.std(levelidata)\n",
    "        numi = levelilength * ((meani - grandmean)**2)\n",
    "        denomi = levelilength\n",
    "        numtotal = numtotal + numi\n",
    "        denomtotal = denomtotal + denomi\n",
    "    # calculate the between-groups variance\n",
    "    Vb = numtotal / (numlevels - 1)\n",
    "    return(Vb)\n",
    "def calcSeparations(variables, groupvariable):\n",
    "    # calculate the separation for each variable\n",
    "    for variablename in variables:\n",
    "        variablei = variables[variablename]\n",
    "        Vw = calcWithinGroupsVariance(variablei, groupvariable)\n",
    "        Vb = calcBetweenGroupsVariance(variablei, groupvariable)\n",
    "        sep = Vb/Vw\n",
    "        print(\"variable\", variablename, \"Vw=\", Vw, \"Vb=\", Vb, \"separation=\", sep)\n",
    "calcSeparations(lda_values[\"x\"], y)"
   ]
  },
  {
   "cell_type": "code",
   "execution_count": 30,
   "metadata": {
    "ExecuteTime": {
     "end_time": "2021-03-26T16:12:38.793160Z",
     "start_time": "2021-03-26T16:12:38.753257Z"
    }
   },
   "outputs": [
    {
     "name": "stdout",
     "output_type": "stream",
     "text": [
      "Proportion of trace:\n",
      "    LD1     LD2     LD3    LD4\n",
      " 0.6559  0.2792  0.0428  0.022\n"
     ]
    }
   ],
   "source": [
    "def proportion_of_trace(lda):\n",
    "    ret = pd.DataFrame([round(i, 4) for i in lda.explained_variance_ratio_ if round(i, 4) > 0], columns=[\"ExplainedVariance\"])\n",
    "    ret.index = [\"LD\"+str(i+1) for i in range(ret.shape[0])]\n",
    "    ret = ret.transpose()\n",
    "    print(\"Proportion of trace:\")\n",
    "    print(ret.to_string(index=False))\n",
    "    return ret\n",
    "\n",
    "proportion_of_trace(LinearDiscriminantAnalysis(solver=\"eigen\").fit(X, y));"
   ]
  },
  {
   "cell_type": "markdown",
   "metadata": {},
   "source": [
    "Therefore, the first discriminant function does achieve a good separation between the six groups , but the second discriminant function does improve the separation of the groups by quite a large amount, so is it worth using the second discriminant function as well. Therefore, to achieve a good separation of the groups , it is necessary to use both of the first two discriminant functions."
   ]
  },
  {
   "cell_type": "markdown",
   "metadata": {},
   "source": [
    "**A Stacked Histogram of the LDA Values**"
   ]
  },
  {
   "cell_type": "code",
   "execution_count": 31,
   "metadata": {
    "ExecuteTime": {
     "end_time": "2021-03-26T16:27:24.026190Z",
     "start_time": "2021-03-26T16:27:24.010198Z"
    }
   },
   "outputs": [],
   "source": [
    "def ldahist(data, g, sep=False):\n",
    "    xmin = np.trunc(np.min(data)) - 1\n",
    "    xmax = np.trunc(np.max(data)) + 1\n",
    "    ncol = len(set(g))\n",
    "    binwidth = 0.5\n",
    "    bins=np.arange(xmin, xmax + binwidth, binwidth)\n",
    "    if sep:\n",
    "        fig, axl = plt.subplots(ncol, 1, sharey=True, sharex=True)\n",
    "    else:\n",
    "        fig, axl = plt.subplots(1, 1, sharey=True, sharex=True)\n",
    "        axl = [axl]*ncol\n",
    "    for ax, (group, gdata) in zip(axl, data.groupby(g)):\n",
    "        sns.distplot(gdata.values, bins, ax=ax, label=\"group \"+str(group))\n",
    "        ax.set_xlim([xmin, xmax])\n",
    "        if sep:\n",
    "            ax.set_xlabel(\"group\"+str(group))\n",
    "        else:\n",
    "            ax.legend(loc='center left', bbox_to_anchor=(1, 0.5))\n",
    "    plt.tight_layout()"
   ]
  },
  {
   "cell_type": "code",
   "execution_count": 32,
   "metadata": {
    "ExecuteTime": {
     "end_time": "2021-03-26T16:27:45.530269Z",
     "start_time": "2021-03-26T16:27:45.042535Z"
    }
   },
   "outputs": [
    {
     "name": "stderr",
     "output_type": "stream",
     "text": [
      "C:\\Users\\User\\anaconda3\\envs\\statistics\\lib\\site-packages\\seaborn\\distributions.py:2557: FutureWarning: `distplot` is a deprecated function and will be removed in a future version. Please adapt your code to use either `displot` (a figure-level function with similar flexibility) or `histplot` (an axes-level function for histograms).\n",
      "  warnings.warn(msg, FutureWarning)\n",
      "C:\\Users\\User\\anaconda3\\envs\\statistics\\lib\\site-packages\\seaborn\\distributions.py:2557: FutureWarning: `distplot` is a deprecated function and will be removed in a future version. Please adapt your code to use either `displot` (a figure-level function with similar flexibility) or `histplot` (an axes-level function for histograms).\n",
      "  warnings.warn(msg, FutureWarning)\n",
      "C:\\Users\\User\\anaconda3\\envs\\statistics\\lib\\site-packages\\seaborn\\distributions.py:2557: FutureWarning: `distplot` is a deprecated function and will be removed in a future version. Please adapt your code to use either `displot` (a figure-level function with similar flexibility) or `histplot` (an axes-level function for histograms).\n",
      "  warnings.warn(msg, FutureWarning)\n",
      "C:\\Users\\User\\anaconda3\\envs\\statistics\\lib\\site-packages\\seaborn\\distributions.py:2557: FutureWarning: `distplot` is a deprecated function and will be removed in a future version. Please adapt your code to use either `displot` (a figure-level function with similar flexibility) or `histplot` (an axes-level function for histograms).\n",
      "  warnings.warn(msg, FutureWarning)\n",
      "C:\\Users\\User\\anaconda3\\envs\\statistics\\lib\\site-packages\\seaborn\\distributions.py:2557: FutureWarning: `distplot` is a deprecated function and will be removed in a future version. Please adapt your code to use either `displot` (a figure-level function with similar flexibility) or `histplot` (an axes-level function for histograms).\n",
      "  warnings.warn(msg, FutureWarning)\n",
      "C:\\Users\\User\\anaconda3\\envs\\statistics\\lib\\site-packages\\seaborn\\distributions.py:2557: FutureWarning: `distplot` is a deprecated function and will be removed in a future version. Please adapt your code to use either `displot` (a figure-level function with similar flexibility) or `histplot` (an axes-level function for histograms).\n",
      "  warnings.warn(msg, FutureWarning)\n"
     ]
    },
    {
     "data": {
      "image/png": "[encoded data removed]",
      "text/plain": [
       "<Figure size 432x288 with 1 Axes>"
      ]
     },
     "metadata": {
      "needs_background": "light"
     },
     "output_type": "display_data"
    }
   ],
   "source": [
    "ldahist(lda_values[\"x\"].LD1, y)"
   ]
  },
  {
   "cell_type": "markdown",
   "metadata": {},
   "source": [
    "\n",
    "We can see from the histogram that there is an overlapping between groups ,however groups 2 and 3 seem to be better separated than the other group."
   ]
  },
  {
   "cell_type": "code",
   "execution_count": 33,
   "metadata": {
    "ExecuteTime": {
     "end_time": "2021-03-26T16:35:26.827682Z",
     "start_time": "2021-03-26T16:35:26.312280Z"
    }
   },
   "outputs": [
    {
     "name": "stderr",
     "output_type": "stream",
     "text": [
      "C:\\Users\\User\\anaconda3\\envs\\statistics\\lib\\site-packages\\seaborn\\distributions.py:2557: FutureWarning: `distplot` is a deprecated function and will be removed in a future version. Please adapt your code to use either `displot` (a figure-level function with similar flexibility) or `histplot` (an axes-level function for histograms).\n",
      "  warnings.warn(msg, FutureWarning)\n",
      "C:\\Users\\User\\anaconda3\\envs\\statistics\\lib\\site-packages\\seaborn\\distributions.py:2557: FutureWarning: `distplot` is a deprecated function and will be removed in a future version. Please adapt your code to use either `displot` (a figure-level function with similar flexibility) or `histplot` (an axes-level function for histograms).\n",
      "  warnings.warn(msg, FutureWarning)\n",
      "C:\\Users\\User\\anaconda3\\envs\\statistics\\lib\\site-packages\\seaborn\\distributions.py:2557: FutureWarning: `distplot` is a deprecated function and will be removed in a future version. Please adapt your code to use either `displot` (a figure-level function with similar flexibility) or `histplot` (an axes-level function for histograms).\n",
      "  warnings.warn(msg, FutureWarning)\n",
      "C:\\Users\\User\\anaconda3\\envs\\statistics\\lib\\site-packages\\seaborn\\distributions.py:2557: FutureWarning: `distplot` is a deprecated function and will be removed in a future version. Please adapt your code to use either `displot` (a figure-level function with similar flexibility) or `histplot` (an axes-level function for histograms).\n",
      "  warnings.warn(msg, FutureWarning)\n",
      "C:\\Users\\User\\anaconda3\\envs\\statistics\\lib\\site-packages\\seaborn\\distributions.py:2557: FutureWarning: `distplot` is a deprecated function and will be removed in a future version. Please adapt your code to use either `displot` (a figure-level function with similar flexibility) or `histplot` (an axes-level function for histograms).\n",
      "  warnings.warn(msg, FutureWarning)\n",
      "C:\\Users\\User\\anaconda3\\envs\\statistics\\lib\\site-packages\\seaborn\\distributions.py:2557: FutureWarning: `distplot` is a deprecated function and will be removed in a future version. Please adapt your code to use either `displot` (a figure-level function with similar flexibility) or `histplot` (an axes-level function for histograms).\n",
      "  warnings.warn(msg, FutureWarning)\n"
     ]
    },
    {
     "data": {
      "image/png": "[encoded data removed]",
      "text/plain": [
       "<Figure size 432x288 with 1 Axes>"
      ]
     },
     "metadata": {
      "needs_background": "light"
     },
     "output_type": "display_data"
    }
   ],
   "source": [
    "ldahist(lda_values[\"x\"].LD2, y)"
   ]
  },
  {
   "cell_type": "markdown",
   "metadata": {},
   "source": [
    "The overlapping is obvious.\n",
    "\n",
    "Thus, we see that the second discriminant function is not necessary to separate the groups"
   ]
  },
  {
   "cell_type": "markdown",
   "metadata": {},
   "source": [
    " **Scatterplots of the Discriminant Functions**"
   ]
  },
  {
   "cell_type": "code",
   "execution_count": 34,
   "metadata": {
    "ExecuteTime": {
     "end_time": "2021-03-26T16:38:46.680325Z",
     "start_time": "2021-03-26T16:38:46.079451Z"
    }
   },
   "outputs": [
    {
     "name": "stderr",
     "output_type": "stream",
     "text": [
      "C:\\Users\\User\\anaconda3\\envs\\statistics\\lib\\site-packages\\seaborn\\_decorators.py:36: FutureWarning: Pass the following variables as keyword args: x, y, data. From version 0.12, the only valid positional argument will be `data`, and passing other arguments without an explicit keyword will result in an error or misinterpretation.\n",
      "  warnings.warn(\n"
     ]
    },
    {
     "data": {
      "image/png": "[encoded data removed]",
      "text/plain": [
       "<Figure size 412x360 with 1 Axes>"
      ]
     },
     "metadata": {
      "needs_background": "light"
     },
     "output_type": "display_data"
    }
   ],
   "source": [
    "sns.lmplot(\"LD1\", \"LD2\", lda_values[\"x\"].join(y), hue=\"V1\", fit_reg=False);"
   ]
  },
  {
   "cell_type": "markdown",
   "metadata": {},
   "source": [
    "The scatterplot shows the LD1 on the x-axis, and the LD2 on the y-axis. We can see from the scatterplot that samples of \"Atomikh epixeirish\" have much higher values of the LD1 than samples of \"AE\". "
   ]
  },
  {
   "cell_type": "markdown",
   "metadata": {},
   "source": [
    "**Allocation Rules and Misclassification Rate**"
   ]
  },
  {
   "cell_type": "code",
   "execution_count": 36,
   "metadata": {
    "ExecuteTime": {
     "end_time": "2021-03-26T16:41:57.406186Z",
     "start_time": "2021-03-26T16:41:57.325916Z"
    }
   },
   "outputs": [
    {
     "name": "stdout",
     "output_type": "stream",
     "text": [
      "## Means:\n"
     ]
    },
    {
     "data": {
      "text/html": [
       "<div>\n",
       "<style scoped>\n",
       "    .dataframe tbody tr th:only-of-type {\n",
       "        vertical-align: middle;\n",
       "    }\n",
       "\n",
       "    .dataframe tbody tr th {\n",
       "        vertical-align: top;\n",
       "    }\n",
       "\n",
       "    .dataframe thead th {\n",
       "        text-align: right;\n",
       "    }\n",
       "</style>\n",
       "<table border=\"1\" class=\"dataframe\">\n",
       "  <thead>\n",
       "    <tr style=\"text-align: right;\">\n",
       "      <th></th>\n",
       "      <th>LD1</th>\n",
       "      <th>LD2</th>\n",
       "      <th>LD3</th>\n",
       "      <th>LD4</th>\n",
       "      <th>LD5</th>\n",
       "    </tr>\n",
       "    <tr>\n",
       "      <th>V1</th>\n",
       "      <th></th>\n",
       "      <th></th>\n",
       "      <th></th>\n",
       "      <th></th>\n",
       "      <th></th>\n",
       "    </tr>\n",
       "  </thead>\n",
       "  <tbody>\n",
       "    <tr>\n",
       "      <th>0.0</th>\n",
       "      <td>-0.833977</td>\n",
       "      <td>-0.015314</td>\n",
       "      <td>0.298374</td>\n",
       "      <td>0.344593</td>\n",
       "      <td>0.006249</td>\n",
       "    </tr>\n",
       "    <tr>\n",
       "      <th>1.0</th>\n",
       "      <td>-0.632103</td>\n",
       "      <td>-0.798119</td>\n",
       "      <td>0.128835</td>\n",
       "      <td>-0.148480</td>\n",
       "      <td>0.000283</td>\n",
       "    </tr>\n",
       "    <tr>\n",
       "      <th>2.0</th>\n",
       "      <td>0.350477</td>\n",
       "      <td>0.002112</td>\n",
       "      <td>-0.029651</td>\n",
       "      <td>0.014415</td>\n",
       "      <td>-0.000725</td>\n",
       "    </tr>\n",
       "    <tr>\n",
       "      <th>3.0</th>\n",
       "      <td>-1.984515</td>\n",
       "      <td>-0.284827</td>\n",
       "      <td>-0.855852</td>\n",
       "      <td>0.109286</td>\n",
       "      <td>0.007951</td>\n",
       "    </tr>\n",
       "    <tr>\n",
       "      <th>4.0</th>\n",
       "      <td>-1.554045</td>\n",
       "      <td>0.719535</td>\n",
       "      <td>0.047533</td>\n",
       "      <td>-0.001012</td>\n",
       "      <td>-0.018669</td>\n",
       "    </tr>\n",
       "    <tr>\n",
       "      <th>5.0</th>\n",
       "      <td>-0.408611</td>\n",
       "      <td>0.859871</td>\n",
       "      <td>0.080776</td>\n",
       "      <td>-0.182036</td>\n",
       "      <td>0.008558</td>\n",
       "    </tr>\n",
       "  </tbody>\n",
       "</table>\n",
       "</div>"
      ],
      "text/plain": [
       "          LD1       LD2       LD3       LD4       LD5\n",
       "V1                                                   \n",
       "0.0 -0.833977 -0.015314  0.298374  0.344593  0.006249\n",
       "1.0 -0.632103 -0.798119  0.128835 -0.148480  0.000283\n",
       "2.0  0.350477  0.002112 -0.029651  0.014415 -0.000725\n",
       "3.0 -1.984515 -0.284827 -0.855852  0.109286  0.007951\n",
       "4.0 -1.554045  0.719535  0.047533 -0.001012 -0.018669\n",
       "5.0 -0.408611  0.859871  0.080776 -0.182036  0.008558"
      ]
     },
     "metadata": {},
     "output_type": "display_data"
    },
    {
     "name": "stdout",
     "output_type": "stream",
     "text": [
      "\n",
      "## Standard deviations:\n"
     ]
    },
    {
     "data": {
      "text/html": [
       "<div>\n",
       "<style scoped>\n",
       "    .dataframe tbody tr th:only-of-type {\n",
       "        vertical-align: middle;\n",
       "    }\n",
       "\n",
       "    .dataframe tbody tr th {\n",
       "        vertical-align: top;\n",
       "    }\n",
       "\n",
       "    .dataframe thead th {\n",
       "        text-align: right;\n",
       "    }\n",
       "</style>\n",
       "<table border=\"1\" class=\"dataframe\">\n",
       "  <thead>\n",
       "    <tr style=\"text-align: right;\">\n",
       "      <th></th>\n",
       "      <th>LD1</th>\n",
       "      <th>LD2</th>\n",
       "      <th>LD3</th>\n",
       "      <th>LD4</th>\n",
       "      <th>LD5</th>\n",
       "    </tr>\n",
       "    <tr>\n",
       "      <th>V1</th>\n",
       "      <th></th>\n",
       "      <th></th>\n",
       "      <th></th>\n",
       "      <th></th>\n",
       "      <th></th>\n",
       "    </tr>\n",
       "  </thead>\n",
       "  <tbody>\n",
       "    <tr>\n",
       "      <th>0.0</th>\n",
       "      <td>0.774357</td>\n",
       "      <td>1.161669</td>\n",
       "      <td>1.242282</td>\n",
       "      <td>1.184615</td>\n",
       "      <td>0.900411</td>\n",
       "    </tr>\n",
       "    <tr>\n",
       "      <th>1.0</th>\n",
       "      <td>1.042849</td>\n",
       "      <td>1.065671</td>\n",
       "      <td>1.045824</td>\n",
       "      <td>1.249555</td>\n",
       "      <td>1.059769</td>\n",
       "    </tr>\n",
       "    <tr>\n",
       "      <th>2.0</th>\n",
       "      <td>0.991539</td>\n",
       "      <td>0.969035</td>\n",
       "      <td>0.980669</td>\n",
       "      <td>0.917157</td>\n",
       "      <td>1.017643</td>\n",
       "    </tr>\n",
       "    <tr>\n",
       "      <th>3.0</th>\n",
       "      <td>0.407555</td>\n",
       "      <td>1.114743</td>\n",
       "      <td>0.604531</td>\n",
       "      <td>1.689736</td>\n",
       "      <td>0.415766</td>\n",
       "    </tr>\n",
       "    <tr>\n",
       "      <th>4.0</th>\n",
       "      <td>0.516489</td>\n",
       "      <td>0.711064</td>\n",
       "      <td>1.033804</td>\n",
       "      <td>0.830633</td>\n",
       "      <td>0.341160</td>\n",
       "    </tr>\n",
       "    <tr>\n",
       "      <th>5.0</th>\n",
       "      <td>1.245513</td>\n",
       "      <td>0.983963</td>\n",
       "      <td>0.810108</td>\n",
       "      <td>0.830781</td>\n",
       "      <td>0.977995</td>\n",
       "    </tr>\n",
       "  </tbody>\n",
       "</table>\n",
       "</div>"
      ],
      "text/plain": [
       "          LD1       LD2       LD3       LD4       LD5\n",
       "V1                                                   \n",
       "0.0  0.774357  1.161669  1.242282  1.184615  0.900411\n",
       "1.0  1.042849  1.065671  1.045824  1.249555  1.059769\n",
       "2.0  0.991539  0.969035  0.980669  0.917157  1.017643\n",
       "3.0  0.407555  1.114743  0.604531  1.689736  0.415766\n",
       "4.0  0.516489  0.711064  1.033804  0.830633  0.341160\n",
       "5.0  1.245513  0.983963  0.810108  0.830781  0.977995"
      ]
     },
     "metadata": {},
     "output_type": "display_data"
    },
    {
     "name": "stdout",
     "output_type": "stream",
     "text": [
      "\n",
      "## Sample sizes:\n"
     ]
    },
    {
     "data": {
      "text/html": [
       "<div>\n",
       "<style scoped>\n",
       "    .dataframe tbody tr th:only-of-type {\n",
       "        vertical-align: middle;\n",
       "    }\n",
       "\n",
       "    .dataframe tbody tr th {\n",
       "        vertical-align: top;\n",
       "    }\n",
       "\n",
       "    .dataframe thead th {\n",
       "        text-align: right;\n",
       "    }\n",
       "</style>\n",
       "<table border=\"1\" class=\"dataframe\">\n",
       "  <thead>\n",
       "    <tr style=\"text-align: right;\">\n",
       "      <th></th>\n",
       "      <th>0</th>\n",
       "    </tr>\n",
       "    <tr>\n",
       "      <th>V1</th>\n",
       "      <th></th>\n",
       "    </tr>\n",
       "  </thead>\n",
       "  <tbody>\n",
       "    <tr>\n",
       "      <th>0.0</th>\n",
       "      <td>13</td>\n",
       "    </tr>\n",
       "    <tr>\n",
       "      <th>1.0</th>\n",
       "      <td>27</td>\n",
       "    </tr>\n",
       "    <tr>\n",
       "      <th>2.0</th>\n",
       "      <td>170</td>\n",
       "    </tr>\n",
       "    <tr>\n",
       "      <th>3.0</th>\n",
       "      <td>5</td>\n",
       "    </tr>\n",
       "    <tr>\n",
       "      <th>4.0</th>\n",
       "      <td>9</td>\n",
       "    </tr>\n",
       "    <tr>\n",
       "      <th>5.0</th>\n",
       "      <td>19</td>\n",
       "    </tr>\n",
       "  </tbody>\n",
       "</table>\n",
       "</div>"
      ],
      "text/plain": [
       "       0\n",
       "V1      \n",
       "0.0   13\n",
       "1.0   27\n",
       "2.0  170\n",
       "3.0    5\n",
       "4.0    9\n",
       "5.0   19"
      ]
     },
     "metadata": {},
     "output_type": "display_data"
    }
   ],
   "source": [
    "def printMeanAndSdByGroup(variables, groupvariable):\n",
    "    data_groupby = variables.groupby(groupvariable)\n",
    "    print(\"## Means:\")\n",
    "    display(data_groupby.apply(np.mean))\n",
    "    print(\"\\n## Standard deviations:\")\n",
    "    display(data_groupby.apply(np.std))\n",
    "    print(\"\\n## Sample sizes:\")\n",
    "    display(pd.DataFrame(data_groupby.apply(len)))\n",
    "printMeanAndSdByGroup(lda_values[\"x\"], y);"
   ]
  },
  {
   "cell_type": "markdown",
   "metadata": {},
   "source": [
    "We find that the mean value of the first discriminant function is -0.833977 for group 1, -0.632103\t for group 2, and 0.350477 for group 3,-1.984515 for group 4,-1.554045 for group 5,-0.408611 for group 6. The \n",
    "mid-way point between the mean values for group 1 and 2 is (-1.984515-1.554045)/2=-1.76928,  \n",
    "mid-way point between the mean values for group 2 and 3 is (-1.554045-0.833977)/2=-1.194011,\n",
    "mid-way point between the mean values for group 3 and 4 is (-0.833977-0.632103)/2=-0.7330399,\n",
    "mid-way point between the mean values for group 4 and 5 is (-0.632103-0.408611)/2=-0.520357,\n",
    "mid-way point between the mean values for group 5 and 6 is (-0.408611+0.350477)/2=-0.0290670\n",
    "\n",
    "Therefore, we can use the following allocation rule:\n",
    "\n",
    "if the first discriminant function is <=-1.76928, predict the sample to be from group 4\n",
    "\n",
    "if the first discriminant function is > -1.76928 and <= -1.194011, predict the sample to be from group 5\n",
    "\n",
    "if the first discriminant function is >-1.194011 and <= -0.7330399, predict the sample to be from group 1\n",
    "\n",
    "if the first discriminant function is >-0.7330399  and <= -0.520357, predict the sample to be from group 2\n",
    "\n",
    "if the first discriminant function is >-0.520357 and <= -0.0290670, predict the sample to be from group 6\n",
    "\n",
    "if the first discriminant function is >-0.0290670, predict the sample to be from group 3"
   ]
  },
  {
   "cell_type": "code",
   "execution_count": 72,
   "metadata": {
    "ExecuteTime": {
     "end_time": "2021-03-26T17:32:58.523519Z",
     "start_time": "2021-03-26T17:32:58.517534Z"
    }
   },
   "outputs": [],
   "source": [
    "def webprint_confusion_matrix(confusion_matrix, classes_names):\n",
    "    i=0\n",
    "    display(pd.DataFrame(confusion_matrix, index=[\"Is group \"+ str(i) for i in classes_names], columns=[\"Allocated to group \"+ str(i) for i in classes_names]))"
   ]
  },
  {
   "cell_type": "code",
   "execution_count": 73,
   "metadata": {
    "ExecuteTime": {
     "end_time": "2021-03-26T17:33:04.639321Z",
     "start_time": "2021-03-26T17:33:04.630344Z"
    }
   },
   "outputs": [],
   "source": [
    "import sklearn.metrics as metrics\n",
    "\n",
    "def lda_classify(v, levels, cutoffpoints):\n",
    "    for level, cutoff in zip(reversed(levels), reversed(cutoffpoints)):\n",
    "        if v > cutoff: return level\n",
    "    return levels[0]\n",
    "    \n",
    "y_pred = lda_values[\"x\"].iloc[:, 0].apply(lda_classify, args=(lda.classes_, [-1.76928,-1.194011, -0.7330399, -0.520357, -0.0290670],)).values\n",
    "y_true = y"
   ]
  },
  {
   "cell_type": "code",
   "execution_count": 75,
   "metadata": {
    "ExecuteTime": {
     "end_time": "2021-03-26T17:33:41.479419Z",
     "start_time": "2021-03-26T17:33:41.455483Z"
    }
   },
   "outputs": [
    {
     "name": "stdout",
     "output_type": "stream",
     "text": [
      "              precision    recall  f1-score   support\n",
      "\n",
      "         0.0       0.04      0.08      0.06        13\n",
      "         1.0       0.21      0.19      0.20        27\n",
      "         2.0       0.63      0.07      0.13       170\n",
      "         3.0       0.00      0.00      0.00         5\n",
      "         4.0       0.04      0.11      0.06         9\n",
      "         5.0       0.06      0.42      0.10        19\n",
      "\n",
      "    accuracy                           0.11       243\n",
      "   macro avg       0.16      0.14      0.09       243\n",
      "weighted avg       0.47      0.11      0.12       243\n",
      "\n"
     ]
    },
    {
     "data": {
      "text/html": [
       "<div>\n",
       "<style scoped>\n",
       "    .dataframe tbody tr th:only-of-type {\n",
       "        vertical-align: middle;\n",
       "    }\n",
       "\n",
       "    .dataframe tbody tr th {\n",
       "        vertical-align: top;\n",
       "    }\n",
       "\n",
       "    .dataframe thead th {\n",
       "        text-align: right;\n",
       "    }\n",
       "</style>\n",
       "<table border=\"1\" class=\"dataframe\">\n",
       "  <thead>\n",
       "    <tr style=\"text-align: right;\">\n",
       "      <th></th>\n",
       "      <th>Allocated to group 0.0</th>\n",
       "      <th>Allocated to group 1.0</th>\n",
       "      <th>Allocated to group 2.0</th>\n",
       "      <th>Allocated to group 3.0</th>\n",
       "      <th>Allocated to group 4.0</th>\n",
       "      <th>Allocated to group 5.0</th>\n",
       "    </tr>\n",
       "  </thead>\n",
       "  <tbody>\n",
       "    <tr>\n",
       "      <th>Is group 0.0</th>\n",
       "      <td>1</td>\n",
       "      <td>6</td>\n",
       "      <td>0</td>\n",
       "      <td>0</td>\n",
       "      <td>4</td>\n",
       "      <td>2</td>\n",
       "    </tr>\n",
       "    <tr>\n",
       "      <th>Is group 1.0</th>\n",
       "      <td>5</td>\n",
       "      <td>5</td>\n",
       "      <td>4</td>\n",
       "      <td>2</td>\n",
       "      <td>2</td>\n",
       "      <td>9</td>\n",
       "    </tr>\n",
       "    <tr>\n",
       "      <th>Is group 2.0</th>\n",
       "      <td>7</td>\n",
       "      <td>4</td>\n",
       "      <td>12</td>\n",
       "      <td>8</td>\n",
       "      <td>18</td>\n",
       "      <td>121</td>\n",
       "    </tr>\n",
       "    <tr>\n",
       "      <th>Is group 3.0</th>\n",
       "      <td>3</td>\n",
       "      <td>2</td>\n",
       "      <td>0</td>\n",
       "      <td>0</td>\n",
       "      <td>0</td>\n",
       "      <td>0</td>\n",
       "    </tr>\n",
       "    <tr>\n",
       "      <th>Is group 4.0</th>\n",
       "      <td>5</td>\n",
       "      <td>2</td>\n",
       "      <td>1</td>\n",
       "      <td>0</td>\n",
       "      <td>1</td>\n",
       "      <td>0</td>\n",
       "    </tr>\n",
       "    <tr>\n",
       "      <th>Is group 5.0</th>\n",
       "      <td>2</td>\n",
       "      <td>5</td>\n",
       "      <td>2</td>\n",
       "      <td>0</td>\n",
       "      <td>2</td>\n",
       "      <td>8</td>\n",
       "    </tr>\n",
       "  </tbody>\n",
       "</table>\n",
       "</div>"
      ],
      "text/plain": [
       "              Allocated to group 0.0  Allocated to group 1.0  \\\n",
       "Is group 0.0                       1                       6   \n",
       "Is group 1.0                       5                       5   \n",
       "Is group 2.0                       7                       4   \n",
       "Is group 3.0                       3                       2   \n",
       "Is group 4.0                       5                       2   \n",
       "Is group 5.0                       2                       5   \n",
       "\n",
       "              Allocated to group 2.0  Allocated to group 3.0  \\\n",
       "Is group 0.0                       0                       0   \n",
       "Is group 1.0                       4                       2   \n",
       "Is group 2.0                      12                       8   \n",
       "Is group 3.0                       0                       0   \n",
       "Is group 4.0                       1                       0   \n",
       "Is group 5.0                       2                       0   \n",
       "\n",
       "              Allocated to group 4.0  Allocated to group 5.0  \n",
       "Is group 0.0                       4                       2  \n",
       "Is group 1.0                       2                       9  \n",
       "Is group 2.0                      18                     121  \n",
       "Is group 3.0                       0                       0  \n",
       "Is group 4.0                       1                       0  \n",
       "Is group 5.0                       2                       8  "
      ]
     },
     "metadata": {},
     "output_type": "display_data"
    }
   ],
   "source": [
    "# from http://scikit-learn.org/stable/auto_examples/model_selection/plot_confusion_matrix.html#example-model-selection-plot-confusion-matrix-py\n",
    "def plot_confusion_matrix(cm, target_names, title='Confusion matrix', cmap=plt.cm.Blues):\n",
    "    plt.imshow(cm, interpolation='nearest', cmap=cmap)\n",
    "    plt.title(title)\n",
    "    plt.colorbar()\n",
    "    tick_marks = np.arange(len(target_names))\n",
    "    plt.xticks(tick_marks, target_names, rotation=45)\n",
    "    plt.yticks(tick_marks, target_names)\n",
    "    plt.tight_layout()\n",
    "    plt.ylabel('True label')\n",
    "    plt.xlabel('Predicted label')\n",
    "\n",
    "print(metrics.classification_report(y_true, y_pred))\n",
    "cm = metrics.confusion_matrix(y_true, y_pred)\n",
    "webprint_confusion_matrix(cm, lda.classes_)\n",
    "#cm_normalized = cm.astype('float') / cm.sum(axis=1)[:, np.newaxis]\n",
    "#plot_confusion_matrix(cm_normalized, lda.classes_, title='Normalized confusion matrix')"
   ]
  },
  {
   "cell_type": "code",
   "execution_count": null,
   "metadata": {},
   "outputs": [],
   "source": []
  }
 ],
 "metadata": {
  "kernelspec": {
   "display_name": "Python 3",
   "language": "python",
   "name": "python3"
  },
  "language_info": {
   "codemirror_mode": {
    "name": "ipython",
    "version": 3
   },
   "file_extension": ".py",
   "mimetype": "text/x-python",
   "name": "python",
   "nbconvert_exporter": "python",
   "pygments_lexer": "ipython3",
   "version": "3.8.5"
  },
  "latex_envs": {
   "LaTeX_envs_menu_present": true,
   "autoclose": false,
   "autocomplete": true,
   "bibliofile": "biblio.bib",
   "cite_by": "apalike",
   "current_citInitial": 1,
   "eqLabelWithNumbers": true,
   "eqNumInitial": 1,
   "hotkeys": {
    "equation": "Ctrl-E",
    "itemize": "Ctrl-I"
   },
   "labels_anchors": false,
   "latex_user_defs": false,
   "report_style_numbering": false,
   "user_envs_cfg": false
  },
  "toc": {
   "base_numbering": 1,
   "nav_menu": {},
   "number_sections": true,
   "sideBar": true,
   "skip_h1_title": false,
   "title_cell": "Table of Contents",
   "title_sidebar": "Contents",
   "toc_cell": false,
   "toc_position": {},
   "toc_section_display": true,
   "toc_window_display": false
  },
  "varInspector": {
   "cols": {
    "lenName": 16,
    "lenType": 16,
    "lenVar": 40
   },
   "kernels_config": {
    "python": {
     "delete_cmd_postfix": "",
     "delete_cmd_prefix": "del ",
     "library": "var_list.py",
     "varRefreshCmd": "print(var_dic_list())"
    },
    "r": {
     "delete_cmd_postfix": ") ",
     "delete_cmd_prefix": "rm(",
     "library": "var_list.r",
     "varRefreshCmd": "cat(var_dic_list()) "
    }
   },
   "types_to_exclude": [
    "module",
    "function",
    "builtin_function_or_method",
    "instance",
    "_Feature"
   ],
   "window_display": false
  }
 },
 "nbformat": 4,
 "nbformat_minor": 4
}
