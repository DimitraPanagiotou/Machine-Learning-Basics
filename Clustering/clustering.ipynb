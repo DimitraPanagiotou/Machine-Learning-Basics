{
 "cells": [
  {
   "cell_type": "markdown",
   "metadata": {
    "toc": true
   },
   "source": [
    "<h1>Table of Contents<span class=\"tocSkip\"></span></h1>\n",
    "<div class=\"toc\"><ul class=\"toc-item\"><li><span><a href=\"#Clustering\" data-toc-modified-id=\"Clustering-1\"><span class=\"toc-item-num\">1&nbsp;&nbsp;</span>Clustering</a></span><ul class=\"toc-item\"><li><span><a href=\"#What-is-Custering?\" data-toc-modified-id=\"What-is-Custering?-1.1\"><span class=\"toc-item-num\">1.1&nbsp;&nbsp;</span>What is Custering?</a></span></li><li><span><a href=\"#Hierarchical-Clustering\" data-toc-modified-id=\"Hierarchical-Clustering-1.2\"><span class=\"toc-item-num\">1.2&nbsp;&nbsp;</span>Hierarchical Clustering</a></span></li><li><span><a href=\"#Partitional-Clustering\" data-toc-modified-id=\"Partitional-Clustering-1.3\"><span class=\"toc-item-num\">1.3&nbsp;&nbsp;</span>Partitional Clustering</a></span></li><li><span><a href=\"#Methods-for-selecting-the-optimal-number-of-clusters\" data-toc-modified-id=\"Methods-for-selecting-the-optimal-number-of-clusters-1.4\"><span class=\"toc-item-num\">1.4&nbsp;&nbsp;</span>Methods for selecting the optimal number of clusters</a></span></li></ul></li><li><span><a href=\"#Importing-Dataset\" data-toc-modified-id=\"Importing-Dataset-2\"><span class=\"toc-item-num\">2&nbsp;&nbsp;</span>Importing Dataset</a></span></li><li><span><a href=\"#K-means\" data-toc-modified-id=\"K-means-3\"><span class=\"toc-item-num\">3&nbsp;&nbsp;</span>K-means</a></span></li><li><span><a href=\"#Hierarchical-clustering\" data-toc-modified-id=\"Hierarchical-clustering-4\"><span class=\"toc-item-num\">4&nbsp;&nbsp;</span>Hierarchical clustering</a></span></li></ul></div>"
   ]
  },
  {
   "cell_type": "markdown",
   "metadata": {
    "ExecuteTime": {
     "end_time": "2022-01-16T15:42:51.673693Z",
     "start_time": "2022-01-16T15:42:51.656697Z"
    }
   },
   "source": [
    "# Clustering"
   ]
  },
  {
   "cell_type": "markdown",
   "metadata": {
    "ExecuteTime": {
     "end_time": "2022-01-16T15:43:17.842530Z",
     "start_time": "2022-01-16T15:43:17.829527Z"
    }
   },
   "source": [
    "## What is Custering?\n",
    "\n",
    "Clustering is the task of grouping a set of objects in such a way that those in the same group (called a cluster) are more similar to each other than to those in other groups.Particularly, this process aims to identify natural groupings or clusters within \n",
    "multidimensional data based on some similarity measure(e.g Euclidean distance)"
   ]
  },
  {
   "cell_type": "markdown",
   "metadata": {},
   "source": [
    "## Hierarchical Clustering\n",
    "\n",
    "Algorithms in this category generate a cluster tree (or dendrogram) by using \n",
    "heuristic splitting or merging techniques. The algorithm groups similar objects into groups called clusters. The endpoint \n",
    "is a set of clusters or groups, where each cluster is distinct from each other \n",
    "cluster, and the objects within each cluster are broadly similar to each other.\n",
    "\n",
    "![SegmentLocal](n.gif \"segment\")\n",
    "\n",
    "This clustering technique is divided into two types:\n",
    "* Algorithms that use splitting to generate the cluster tree are called **divisive**.\n",
    "\n",
    "* Algorithms that use merging to generate the cluster tree are called **agglomerative**.\n",
    "\n",
    "**Math Formula**\n",
    "\n",
    "Either type of hierarchical clustering, the data set X is partitioned into Q\n",
    "sets {$H_1$, …, $H_Q$}. \n",
    "\n",
    "That is, if subsets $C_i$ and $C_j$ satisfy that $C_i$ ∈ $H_m$, $C_j$ ∈ $H_l$, and m > l, \n",
    "\n",
    "then either $C_i$⊂$C_j$ or $C_i$∩$C_j$=∅ for all i≠j, m, l = 1, …, Q.\n",
    "\n",
    "\n",
    "**Advantages**\n",
    "\n",
    "* It is robust in the presence of noise in the data set\n",
    "\n",
    "* The number of clusters need not to be specified a priori\n",
    "\n",
    "* They are independent of the initial conditions\n",
    "\n",
    "\n",
    "**Disadvantages**\n",
    "\n",
    "* They are computationally expensive\n",
    "* They are static, i.e. patterns assigned to a cluster cannot move to another \n",
    "cluster\n",
    "* They may fail to separate overlapping clusters due to a lack of information \n",
    "about the global shape or size of the clusters\n"
   ]
  },
  {
   "cell_type": "markdown",
   "metadata": {},
   "source": [
    "## Partitional Clustering \n",
    "\n",
    "Partitional clustering algorithms divide the data set into a specified number of \n",
    "clusters. These algorithms try to minimize certain criteria (e.g. a square error \n",
    "function) and can therefore be treated as optimization problems.\n",
    "\n",
    "**K-means**\n",
    "\n",
    "The K-means algorithm minimizes the intra-cluster distance. The K-means algorithm starts with K centroids (initial values for the\n",
    "centroids are randomly selected or derived from a priori information). Then, each\n",
    "pattern in the data set is assigned to the closest cluster (i.e. closest centroid). Finally,\n",
    "the centroids are recalculated according to the associated patterns. This process is\n",
    "repeated until convergence is achieved.\n",
    "\n",
    "![SegmentLocal](kmeans.gif \"segment\")\n",
    "\n",
    "\n",
    "**Math formula**\n",
    "\n",
    "![SegmentLocal](kmeans.png)"
   ]
  },
  {
   "cell_type": "markdown",
   "metadata": {
    "ExecuteTime": {
     "end_time": "2022-01-16T16:09:23.660275Z",
     "start_time": "2022-01-16T16:09:23.635275Z"
    }
   },
   "source": [
    "## Methods for selecting the optimal number of clusters\n",
    "\n",
    "* **Elbow Method**\n",
    "\n",
    "It is the most popular method for determining the optimal number of clusters. The method is based on calculating the Within-Cluster-Sum of Squared Errors (WSS) for different number of clusters (k) and **selecting the k for which change in WSS first starts to diminish**.\n",
    "The idea behind the elbow method is that the explained variation changes rapidly for a small number of clusters and then it slows down leading to an elbow formation in the curve. The elbow point is the number of clusters we can use for our clustering algorithm. \n",
    "\n",
    "![](elbow.png)\n",
    "\n",
    "* **Silhouette Coefficient**\n",
    "\n",
    "The silhouette value is a measure of how similar an object is to its own cluster (cohesion) compared to other clusters (separation). The silhouette ranges from −1 to +1, where a **high value indicates that the object is well matched to its own cluster and poorly matched to neighboring clusters**. If most objects have a high value, then the clustering configuration is appropriate. If many points have a low or negative value, then the clustering configuration may have too many or too few clusters.\n",
    "\n",
    "![](sil.png)\n",
    "\n",
    "* **Dendogram**\n",
    "\n",
    "To get the optimal number of clusters for hierarchical clustering, we make use a dendrogram which is tree-like chart that shows the sequences of merges or splits of clusters.\n",
    "If two clusters are merged, the dendrogram will join them in a graph and the height of the join will be the distance between those clusters.\n",
    "\n",
    "**In the dendrogram locate the largest vertical difference between nodes, and in the middle pass an horizontal line. The number of vertical lines intersecting it is the optimal number of clusters.** \n",
    "\n",
    "![](dend.png)"
   ]
  },
  {
   "cell_type": "markdown",
   "metadata": {},
   "source": [
    "# Importing Dataset"
   ]
  },
  {
   "cell_type": "code",
   "execution_count": 13,
   "metadata": {
    "ExecuteTime": {
     "end_time": "2022-01-17T16:44:33.312100Z",
     "start_time": "2022-01-17T16:44:33.274629Z"
    }
   },
   "outputs": [
    {
     "data": {
      "text/html": [
       "<div>\n",
       "<style scoped>\n",
       "    .dataframe tbody tr th:only-of-type {\n",
       "        vertical-align: middle;\n",
       "    }\n",
       "\n",
       "    .dataframe tbody tr th {\n",
       "        vertical-align: top;\n",
       "    }\n",
       "\n",
       "    .dataframe thead th {\n",
       "        text-align: right;\n",
       "    }\n",
       "</style>\n",
       "<table border=\"1\" class=\"dataframe\">\n",
       "  <thead>\n",
       "    <tr style=\"text-align: right;\">\n",
       "      <th></th>\n",
       "      <th>sepal_len</th>\n",
       "      <th>sepal_wid</th>\n",
       "      <th>petal_len</th>\n",
       "      <th>petal_wid</th>\n",
       "    </tr>\n",
       "  </thead>\n",
       "  <tbody>\n",
       "    <tr>\n",
       "      <th>0</th>\n",
       "      <td>5.1</td>\n",
       "      <td>3.5</td>\n",
       "      <td>1.4</td>\n",
       "      <td>0.2</td>\n",
       "    </tr>\n",
       "    <tr>\n",
       "      <th>1</th>\n",
       "      <td>4.9</td>\n",
       "      <td>3.0</td>\n",
       "      <td>1.4</td>\n",
       "      <td>0.2</td>\n",
       "    </tr>\n",
       "    <tr>\n",
       "      <th>2</th>\n",
       "      <td>4.7</td>\n",
       "      <td>3.2</td>\n",
       "      <td>1.3</td>\n",
       "      <td>0.2</td>\n",
       "    </tr>\n",
       "    <tr>\n",
       "      <th>3</th>\n",
       "      <td>4.6</td>\n",
       "      <td>3.1</td>\n",
       "      <td>1.5</td>\n",
       "      <td>0.2</td>\n",
       "    </tr>\n",
       "    <tr>\n",
       "      <th>4</th>\n",
       "      <td>5.0</td>\n",
       "      <td>3.6</td>\n",
       "      <td>1.4</td>\n",
       "      <td>0.2</td>\n",
       "    </tr>\n",
       "  </tbody>\n",
       "</table>\n",
       "</div>"
      ],
      "text/plain": [
       "   sepal_len  sepal_wid  petal_len  petal_wid\n",
       "0        5.1        3.5        1.4        0.2\n",
       "1        4.9        3.0        1.4        0.2\n",
       "2        4.7        3.2        1.3        0.2\n",
       "3        4.6        3.1        1.5        0.2\n",
       "4        5.0        3.6        1.4        0.2"
      ]
     },
     "execution_count": 13,
     "metadata": {},
     "output_type": "execute_result"
    }
   ],
   "source": [
    "from sklearn import datasets\n",
    "import pandas as pd\n",
    "\n",
    "# load iris dataset\n",
    "iris = datasets.load_iris()\n",
    "\n",
    "X=pd.DataFrame(iris.data)\n",
    "X.columns=['sepal_len', 'sepal_wid', 'petal_len', 'petal_wid']\n",
    "X.dropna(how=\"all\", inplace=True) # remove any empty lines\n",
    "X.head()"
   ]
  },
  {
   "cell_type": "markdown",
   "metadata": {},
   "source": [
    "# K-means"
   ]
  },
  {
   "cell_type": "code",
   "execution_count": 10,
   "metadata": {
    "ExecuteTime": {
     "end_time": "2022-01-17T16:43:18.957543Z",
     "start_time": "2022-01-17T16:43:16.939537Z"
    }
   },
   "outputs": [
    {
     "name": "stderr",
     "output_type": "stream",
     "text": [
      "C:\\Users\\User\\anaconda3\\envs\\stats\\lib\\site-packages\\sklearn\\cluster\\_kmeans.py:1038: UserWarning: KMeans is known to have a memory leak on Windows with MKL, when there are less chunks than available threads. You can avoid it by setting the environment variable OMP_NUM_THREADS=1.\n",
      "  warnings.warn(\n"
     ]
    },
    {
     "data": {
      "image/png": "[encoded data removed]",
      "text/plain": [
       "<Figure size 432x288 with 1 Axes>"
      ]
     },
     "metadata": {
      "needs_background": "light"
     },
     "output_type": "display_data"
    }
   ],
   "source": [
    "from numpy import unique\n",
    "from numpy import where\n",
    "from sklearn.datasets import make_classification\n",
    "from sklearn.cluster import KMeans\n",
    "from matplotlib import pyplot as plt\n",
    "\n",
    "Sum_of_squared_distances = []\n",
    "K = range(1,15)\n",
    "for k in K:\n",
    "    km = KMeans(n_clusters=k)\n",
    "    km = km.fit(X)\n",
    "    Sum_of_squared_distances.append(km.inertia_)\n",
    "    \n",
    "plt.plot(K, Sum_of_squared_distances, 'bx-')\n",
    "plt.xlabel('k')\n",
    "plt.ylabel('Sum_of_squared_distances')\n",
    "plt.title('Elbow Method For Optimal k')\n",
    "plt.show()"
   ]
  },
  {
   "cell_type": "markdown",
   "metadata": {},
   "source": [
    "There are 2 points which can be the elbow. A 3 cluster solution is definitely the better one as after it there is no much to gain. A 2 cluster solution in this case whould be suboptimal as the leap from 2 to 3 is very big in terms of wcss.\n",
    "\n",
    "So the optimal number of clusters is 3"
   ]
  },
  {
   "cell_type": "markdown",
   "metadata": {
    "ExecuteTime": {
     "end_time": "2022-01-16T16:59:44.188084Z",
     "start_time": "2022-01-16T16:59:44.171087Z"
    }
   },
   "source": [
    "# Hierarchical clustering"
   ]
  },
  {
   "cell_type": "code",
   "execution_count": 11,
   "metadata": {
    "ExecuteTime": {
     "end_time": "2022-01-17T16:43:29.503948Z",
     "start_time": "2022-01-17T16:43:25.918953Z"
    }
   },
   "outputs": [
    {
     "name": "stdout",
     "output_type": "stream",
     "text": [
      "Now, we will generate a dendrogram of the data.\n"
     ]
    },
    {
     "data": {
      "image/png": "[encoded data removed]",
      "text/plain": [
       "<Figure size 576x576 with 1 Axes>"
      ]
     },
     "metadata": {
      "needs_background": "light"
     },
     "output_type": "display_data"
    }
   ],
   "source": [
    "from sklearn.cluster import AgglomerativeClustering\n",
    "from sklearn.preprocessing import StandardScaler, normalize\n",
    "from sklearn.metrics import silhouette_score\n",
    "import scipy.cluster.hierarchy as shc\n",
    "\n",
    "print(\"Now, we will generate a dendrogram of the data.\")\n",
    "plt.figure(figsize =(8, 8))\n",
    "plt.title('Visualising the data')\n",
    "Dendrogram = shc.dendrogram((shc.linkage(X, method ='ward')))"
   ]
  },
  {
   "cell_type": "markdown",
   "metadata": {},
   "source": [
    "This dendrogram shows the hierarchical clustering of row data points based on euclidean distance. It also tells the suitable number of clusters with different colors in the dendrogram. But the optimal choice of clusters can be based on the horizontal lines in the dendrogram i.e. number of clusters should be 2."
   ]
  },
  {
   "cell_type": "markdown",
   "metadata": {},
   "source": [
    "**for K=2**"
   ]
  },
  {
   "cell_type": "code",
   "execution_count": 14,
   "metadata": {
    "ExecuteTime": {
     "end_time": "2022-01-17T16:44:37.572986Z",
     "start_time": "2022-01-17T16:44:37.302667Z"
    }
   },
   "outputs": [
    {
     "data": {
      "image/png": "[encoded data removed]",
      "text/plain": [
       "<Figure size 432x288 with 1 Axes>"
      ]
     },
     "metadata": {
      "needs_background": "light"
     },
     "output_type": "display_data"
    }
   ],
   "source": [
    "from sklearn.cluster import AgglomerativeClustering\n",
    "hc = AgglomerativeClustering(n_clusters = 2, affinity = \"euclidean\", linkage = 'ward')\n",
    "hc_pred = hc.fit_predict(X)\n",
    "\n",
    "X=X.values\n",
    "plt.scatter(X[hc_pred==0,0], X[hc_pred==0,1], s = 100, c = 'red', label ='Cluster1')\n",
    "plt.scatter(X[hc_pred==1,0], X[hc_pred==1,1], s = 100, c = 'blue', label ='Cluster2')\n",
    "\n",
    "\n",
    "plt.title('Clusters of the customers')\n",
    "plt.xlabel('Annual income (k$)')\n",
    "plt.ylabel('Spending SCore (1 - 100)')\n",
    "plt.legend()\n",
    "plt.show()"
   ]
  },
  {
   "cell_type": "markdown",
   "metadata": {
    "ExecuteTime": {
     "end_time": "2022-01-17T16:46:56.268402Z",
     "start_time": "2022-01-17T16:46:56.257402Z"
    }
   },
   "source": [
    "**for K=3**"
   ]
  },
  {
   "cell_type": "code",
   "execution_count": 16,
   "metadata": {
    "ExecuteTime": {
     "end_time": "2022-01-17T16:45:56.031270Z",
     "start_time": "2022-01-17T16:45:55.714229Z"
    }
   },
   "outputs": [
    {
     "data": {
      "image/png": "[encoded data removed]",
      "text/plain": [
       "<Figure size 432x288 with 1 Axes>"
      ]
     },
     "metadata": {
      "needs_background": "light"
     },
     "output_type": "display_data"
    }
   ],
   "source": [
    "hc = AgglomerativeClustering(n_clusters = 3, affinity = \"euclidean\", linkage = 'ward')\n",
    "hc_pred = hc.fit_predict(X)\n",
    "\n",
    "plt.scatter(X[hc_pred==0,0], X[hc_pred==0,1], s = 100, c = 'red', label ='Cluster1')\n",
    "plt.scatter(X[hc_pred==1,0], X[hc_pred==1,1], s = 100, c = 'blue', label ='Cluster2')\n",
    "plt.scatter(X[hc_pred==2,0], X[hc_pred==2,1], s = 100, c = 'green', label = 'Cluster3')\n",
    "\n",
    "plt.title('Clusters of the customers')\n",
    "plt.xlabel('Annual income (k$)')\n",
    "plt.ylabel('Spending SCore (1 - 100)')\n",
    "plt.legend()\n",
    "plt.show()"
   ]
  },
  {
   "cell_type": "markdown",
   "metadata": {},
   "source": [
    "**for K=4**"
   ]
  },
  {
   "cell_type": "code",
   "execution_count": 19,
   "metadata": {
    "ExecuteTime": {
     "end_time": "2022-01-17T16:49:23.462783Z",
     "start_time": "2022-01-17T16:49:23.097226Z"
    }
   },
   "outputs": [
    {
     "data": {
      "image/png": "[encoded data removed]",
      "text/plain": [
       "<Figure size 432x288 with 1 Axes>"
      ]
     },
     "metadata": {
      "needs_background": "light"
     },
     "output_type": "display_data"
    }
   ],
   "source": [
    "hc = AgglomerativeClustering(n_clusters = 4, affinity = \"euclidean\", linkage = 'ward')\n",
    "hc_pred = hc.fit_predict(X)\n",
    "\n",
    "plt.scatter(X[hc_pred==0,0], X[hc_pred==0,1], s = 100, c = 'red', label ='Cluster1')\n",
    "plt.scatter(X[hc_pred==1,0], X[hc_pred==1,1], s = 100, c = 'blue', label ='Cluster2')\n",
    "plt.scatter(X[hc_pred==2,0], X[hc_pred==2,1], s = 100, c = 'green', label = 'Cluster3')\n",
    "plt.scatter(X[hc_pred==3,0], X[hc_pred==3,1], s = 100, c = 'cyan', label = 'Cluster4')\n",
    "\n",
    "plt.title('Clusters of the customers')\n",
    "plt.xlabel('Annual income (k$)')\n",
    "plt.ylabel('Spending SCore (1 - 100)')\n",
    "plt.legend()\n",
    "plt.show()"
   ]
  },
  {
   "cell_type": "markdown",
   "metadata": {},
   "source": [
    "So the optimal number of clusters is 2"
   ]
  }
 ],
 "metadata": {
  "kernelspec": {
   "display_name": "Python 3",
   "language": "python",
   "name": "python3"
  },
  "language_info": {
   "codemirror_mode": {
    "name": "ipython",
    "version": 3
   },
   "file_extension": ".py",
   "mimetype": "text/x-python",
   "name": "python",
   "nbconvert_exporter": "python",
   "pygments_lexer": "ipython3",
   "version": "3.8.5"
  },
  "latex_envs": {
   "LaTeX_envs_menu_present": true,
   "autoclose": false,
   "autocomplete": true,
   "bibliofile": "biblio.bib",
   "cite_by": "apalike",
   "current_citInitial": 1,
   "eqLabelWithNumbers": true,
   "eqNumInitial": 1,
   "hotkeys": {
    "equation": "Ctrl-E",
    "itemize": "Ctrl-I"
   },
   "labels_anchors": false,
   "latex_user_defs": false,
   "report_style_numbering": false,
   "user_envs_cfg": false
  },
  "toc": {
   "base_numbering": 1,
   "nav_menu": {},
   "number_sections": true,
   "sideBar": true,
   "skip_h1_title": false,
   "title_cell": "Table of Contents",
   "title_sidebar": "Contents",
   "toc_cell": true,
   "toc_position": {
    "height": "calc(100% - 180px)",
    "left": "10px",
    "top": "150px",
    "width": "171.188px"
   },
   "toc_section_display": true,
   "toc_window_display": true
  },
  "varInspector": {
   "cols": {
    "lenName": 16,
    "lenType": 16,
    "lenVar": 40
   },
   "kernels_config": {
    "python": {
     "delete_cmd_postfix": "",
     "delete_cmd_prefix": "del ",
     "library": "var_list.py",
     "varRefreshCmd": "print(var_dic_list())"
    },
    "r": {
     "delete_cmd_postfix": ") ",
     "delete_cmd_prefix": "rm(",
     "library": "var_list.r",
     "varRefreshCmd": "cat(var_dic_list()) "
    }
   },
   "types_to_exclude": [
    "module",
    "function",
    "builtin_function_or_method",
    "instance",
    "_Feature"
   ],
   "window_display": false
  }
 },
 "nbformat": 4,
 "nbformat_minor": 5
}
